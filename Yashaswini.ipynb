{
 "cells": [
  {
   "cell_type": "code",
   "execution_count": 1,
   "id": "7e2f4db8",
   "metadata": {},
   "outputs": [],
   "source": [
    "import numpy as np\n",
    "import pandas as pd\n",
    "import seaborn as sns"
   ]
  },
  {
   "cell_type": "code",
   "execution_count": 2,
   "id": "c3e43e24",
   "metadata": {},
   "outputs": [
    {
     "name": "stderr",
     "output_type": "stream",
     "text": [
      "C:\\Users\\Administrator\\AppData\\Local\\Temp\\ipykernel_12784\\1429014459.py:1: DtypeWarning: Columns (47) have mixed types. Specify dtype option on import or set low_memory=False.\n",
      "  loan_df = pd.read_csv(\"loan.csv\")\n"
     ]
    }
   ],
   "source": [
    "loan_df = pd.read_csv(\"loan.csv\")"
   ]
  },
  {
   "cell_type": "code",
   "execution_count": 3,
   "id": "617a884a",
   "metadata": {},
   "outputs": [
    {
     "data": {
      "text/plain": [
       "(39717, 111)"
      ]
     },
     "execution_count": 3,
     "metadata": {},
     "output_type": "execute_result"
    }
   ],
   "source": [
    "loan_df.shape"
   ]
  },
  {
   "cell_type": "code",
   "execution_count": 4,
   "id": "a15bb6a6",
   "metadata": {},
   "outputs": [
    {
     "data": {
      "text/html": [
       "<div>\n",
       "<style scoped>\n",
       "    .dataframe tbody tr th:only-of-type {\n",
       "        vertical-align: middle;\n",
       "    }\n",
       "\n",
       "    .dataframe tbody tr th {\n",
       "        vertical-align: top;\n",
       "    }\n",
       "\n",
       "    .dataframe thead th {\n",
       "        text-align: right;\n",
       "    }\n",
       "</style>\n",
       "<table border=\"1\" class=\"dataframe\">\n",
       "  <thead>\n",
       "    <tr style=\"text-align: right;\">\n",
       "      <th></th>\n",
       "      <th>id</th>\n",
       "      <th>member_id</th>\n",
       "      <th>loan_amnt</th>\n",
       "      <th>funded_amnt</th>\n",
       "      <th>funded_amnt_inv</th>\n",
       "      <th>term</th>\n",
       "      <th>int_rate</th>\n",
       "      <th>installment</th>\n",
       "      <th>grade</th>\n",
       "      <th>sub_grade</th>\n",
       "      <th>...</th>\n",
       "      <th>num_tl_90g_dpd_24m</th>\n",
       "      <th>num_tl_op_past_12m</th>\n",
       "      <th>pct_tl_nvr_dlq</th>\n",
       "      <th>percent_bc_gt_75</th>\n",
       "      <th>pub_rec_bankruptcies</th>\n",
       "      <th>tax_liens</th>\n",
       "      <th>tot_hi_cred_lim</th>\n",
       "      <th>total_bal_ex_mort</th>\n",
       "      <th>total_bc_limit</th>\n",
       "      <th>total_il_high_credit_limit</th>\n",
       "    </tr>\n",
       "  </thead>\n",
       "  <tbody>\n",
       "    <tr>\n",
       "      <th>0</th>\n",
       "      <td>1077501</td>\n",
       "      <td>1296599</td>\n",
       "      <td>5000</td>\n",
       "      <td>5000</td>\n",
       "      <td>4975.0</td>\n",
       "      <td>36 months</td>\n",
       "      <td>10.65%</td>\n",
       "      <td>162.87</td>\n",
       "      <td>B</td>\n",
       "      <td>B2</td>\n",
       "      <td>...</td>\n",
       "      <td>NaN</td>\n",
       "      <td>NaN</td>\n",
       "      <td>NaN</td>\n",
       "      <td>NaN</td>\n",
       "      <td>0.0</td>\n",
       "      <td>0.0</td>\n",
       "      <td>NaN</td>\n",
       "      <td>NaN</td>\n",
       "      <td>NaN</td>\n",
       "      <td>NaN</td>\n",
       "    </tr>\n",
       "    <tr>\n",
       "      <th>1</th>\n",
       "      <td>1077430</td>\n",
       "      <td>1314167</td>\n",
       "      <td>2500</td>\n",
       "      <td>2500</td>\n",
       "      <td>2500.0</td>\n",
       "      <td>60 months</td>\n",
       "      <td>15.27%</td>\n",
       "      <td>59.83</td>\n",
       "      <td>C</td>\n",
       "      <td>C4</td>\n",
       "      <td>...</td>\n",
       "      <td>NaN</td>\n",
       "      <td>NaN</td>\n",
       "      <td>NaN</td>\n",
       "      <td>NaN</td>\n",
       "      <td>0.0</td>\n",
       "      <td>0.0</td>\n",
       "      <td>NaN</td>\n",
       "      <td>NaN</td>\n",
       "      <td>NaN</td>\n",
       "      <td>NaN</td>\n",
       "    </tr>\n",
       "    <tr>\n",
       "      <th>2</th>\n",
       "      <td>1077175</td>\n",
       "      <td>1313524</td>\n",
       "      <td>2400</td>\n",
       "      <td>2400</td>\n",
       "      <td>2400.0</td>\n",
       "      <td>36 months</td>\n",
       "      <td>15.96%</td>\n",
       "      <td>84.33</td>\n",
       "      <td>C</td>\n",
       "      <td>C5</td>\n",
       "      <td>...</td>\n",
       "      <td>NaN</td>\n",
       "      <td>NaN</td>\n",
       "      <td>NaN</td>\n",
       "      <td>NaN</td>\n",
       "      <td>0.0</td>\n",
       "      <td>0.0</td>\n",
       "      <td>NaN</td>\n",
       "      <td>NaN</td>\n",
       "      <td>NaN</td>\n",
       "      <td>NaN</td>\n",
       "    </tr>\n",
       "    <tr>\n",
       "      <th>3</th>\n",
       "      <td>1076863</td>\n",
       "      <td>1277178</td>\n",
       "      <td>10000</td>\n",
       "      <td>10000</td>\n",
       "      <td>10000.0</td>\n",
       "      <td>36 months</td>\n",
       "      <td>13.49%</td>\n",
       "      <td>339.31</td>\n",
       "      <td>C</td>\n",
       "      <td>C1</td>\n",
       "      <td>...</td>\n",
       "      <td>NaN</td>\n",
       "      <td>NaN</td>\n",
       "      <td>NaN</td>\n",
       "      <td>NaN</td>\n",
       "      <td>0.0</td>\n",
       "      <td>0.0</td>\n",
       "      <td>NaN</td>\n",
       "      <td>NaN</td>\n",
       "      <td>NaN</td>\n",
       "      <td>NaN</td>\n",
       "    </tr>\n",
       "    <tr>\n",
       "      <th>4</th>\n",
       "      <td>1075358</td>\n",
       "      <td>1311748</td>\n",
       "      <td>3000</td>\n",
       "      <td>3000</td>\n",
       "      <td>3000.0</td>\n",
       "      <td>60 months</td>\n",
       "      <td>12.69%</td>\n",
       "      <td>67.79</td>\n",
       "      <td>B</td>\n",
       "      <td>B5</td>\n",
       "      <td>...</td>\n",
       "      <td>NaN</td>\n",
       "      <td>NaN</td>\n",
       "      <td>NaN</td>\n",
       "      <td>NaN</td>\n",
       "      <td>0.0</td>\n",
       "      <td>0.0</td>\n",
       "      <td>NaN</td>\n",
       "      <td>NaN</td>\n",
       "      <td>NaN</td>\n",
       "      <td>NaN</td>\n",
       "    </tr>\n",
       "  </tbody>\n",
       "</table>\n",
       "<p>5 rows × 111 columns</p>\n",
       "</div>"
      ],
      "text/plain": [
       "        id  member_id  loan_amnt  funded_amnt  funded_amnt_inv        term  \\\n",
       "0  1077501    1296599       5000         5000           4975.0   36 months   \n",
       "1  1077430    1314167       2500         2500           2500.0   60 months   \n",
       "2  1077175    1313524       2400         2400           2400.0   36 months   \n",
       "3  1076863    1277178      10000        10000          10000.0   36 months   \n",
       "4  1075358    1311748       3000         3000           3000.0   60 months   \n",
       "\n",
       "  int_rate  installment grade sub_grade  ... num_tl_90g_dpd_24m  \\\n",
       "0   10.65%       162.87     B        B2  ...                NaN   \n",
       "1   15.27%        59.83     C        C4  ...                NaN   \n",
       "2   15.96%        84.33     C        C5  ...                NaN   \n",
       "3   13.49%       339.31     C        C1  ...                NaN   \n",
       "4   12.69%        67.79     B        B5  ...                NaN   \n",
       "\n",
       "  num_tl_op_past_12m pct_tl_nvr_dlq  percent_bc_gt_75 pub_rec_bankruptcies  \\\n",
       "0                NaN            NaN               NaN                  0.0   \n",
       "1                NaN            NaN               NaN                  0.0   \n",
       "2                NaN            NaN               NaN                  0.0   \n",
       "3                NaN            NaN               NaN                  0.0   \n",
       "4                NaN            NaN               NaN                  0.0   \n",
       "\n",
       "  tax_liens tot_hi_cred_lim total_bal_ex_mort total_bc_limit  \\\n",
       "0       0.0             NaN               NaN            NaN   \n",
       "1       0.0             NaN               NaN            NaN   \n",
       "2       0.0             NaN               NaN            NaN   \n",
       "3       0.0             NaN               NaN            NaN   \n",
       "4       0.0             NaN               NaN            NaN   \n",
       "\n",
       "  total_il_high_credit_limit  \n",
       "0                        NaN  \n",
       "1                        NaN  \n",
       "2                        NaN  \n",
       "3                        NaN  \n",
       "4                        NaN  \n",
       "\n",
       "[5 rows x 111 columns]"
      ]
     },
     "execution_count": 4,
     "metadata": {},
     "output_type": "execute_result"
    }
   ],
   "source": [
    "loan_df.head()"
   ]
  },
  {
   "cell_type": "code",
   "execution_count": 5,
   "id": "3082388c",
   "metadata": {},
   "outputs": [
    {
     "data": {
      "text/plain": [
       "id                            39717\n",
       "member_id                     39717\n",
       "loan_amnt                       885\n",
       "funded_amnt                    1041\n",
       "funded_amnt_inv                8205\n",
       "                              ...  \n",
       "tax_liens                         1\n",
       "tot_hi_cred_lim                   0\n",
       "total_bal_ex_mort                 0\n",
       "total_bc_limit                    0\n",
       "total_il_high_credit_limit        0\n",
       "Length: 111, dtype: int64"
      ]
     },
     "execution_count": 5,
     "metadata": {},
     "output_type": "execute_result"
    }
   ],
   "source": [
    "#Performing data cleaning \n",
    "#Fixing Rows and Coloumns .Since there are no summary rows, header or footer rows , proceeding with column data fixing.\n",
    "loan_df.nunique()"
   ]
  },
  {
   "cell_type": "code",
   "execution_count": 6,
   "id": "ade7eac6",
   "metadata": {},
   "outputs": [],
   "source": [
    "#Removing columns having no or 1 unique values as this would not effect our anaylsis\n",
    "nouniquevaluecol = loan_df.nunique()[loan_df.nunique().values == 0].index"
   ]
  },
  {
   "cell_type": "code",
   "execution_count": 7,
   "id": "dfde6ff0",
   "metadata": {},
   "outputs": [],
   "source": [
    "loan_df.drop(columns=list(nouniquevaluecol),inplace=True)"
   ]
  },
  {
   "cell_type": "code",
   "execution_count": 8,
   "id": "99ea9aa0",
   "metadata": {},
   "outputs": [
    {
     "data": {
      "text/plain": [
       "(39717, 57)"
      ]
     },
     "execution_count": 8,
     "metadata": {},
     "output_type": "execute_result"
    }
   ],
   "source": [
    "loan_df.shape"
   ]
  },
  {
   "cell_type": "code",
   "execution_count": 9,
   "id": "d0d0b506",
   "metadata": {},
   "outputs": [],
   "source": [
    "singleuniquevaluecol = loan_df.nunique()[loan_df.nunique().values == 1].index"
   ]
  },
  {
   "cell_type": "code",
   "execution_count": 10,
   "id": "0032869e",
   "metadata": {},
   "outputs": [],
   "source": [
    "loan_df.drop(columns=list(singleuniquevaluecol),inplace=True)"
   ]
  },
  {
   "cell_type": "code",
   "execution_count": 11,
   "id": "228e7cf6",
   "metadata": {},
   "outputs": [
    {
     "data": {
      "text/plain": [
       "(39717, 48)"
      ]
     },
     "execution_count": 11,
     "metadata": {},
     "output_type": "execute_result"
    }
   ],
   "source": [
    "loan_df.shape"
   ]
  },
  {
   "cell_type": "code",
   "execution_count": 12,
   "id": "874ef6b3",
   "metadata": {},
   "outputs": [],
   "source": [
    "#columns like id, member_id, url can be removed as this will not have any effect on our analysis\n",
    "loan_df.drop(columns=['id','member_id','url'],inplace=True)"
   ]
  },
  {
   "cell_type": "code",
   "execution_count": 13,
   "id": "814c5213",
   "metadata": {},
   "outputs": [
    {
     "data": {
      "text/plain": [
       "(39717, 45)"
      ]
     },
     "execution_count": 13,
     "metadata": {},
     "output_type": "execute_result"
    }
   ],
   "source": [
    "loan_df.shape"
   ]
  },
  {
   "cell_type": "code",
   "execution_count": 14,
   "id": "5bce173f",
   "metadata": {},
   "outputs": [
    {
     "data": {
      "text/plain": [
       "Index(['loan_amnt', 'funded_amnt', 'funded_amnt_inv', 'term', 'int_rate',\n",
       "       'installment', 'grade', 'sub_grade', 'emp_title', 'emp_length',\n",
       "       'home_ownership', 'annual_inc', 'verification_status', 'issue_d',\n",
       "       'loan_status', 'desc', 'purpose', 'title', 'zip_code', 'addr_state',\n",
       "       'dti', 'delinq_2yrs', 'earliest_cr_line', 'inq_last_6mths',\n",
       "       'mths_since_last_delinq', 'mths_since_last_record', 'open_acc',\n",
       "       'pub_rec', 'revol_bal', 'revol_util', 'total_acc', 'out_prncp',\n",
       "       'out_prncp_inv', 'total_pymnt', 'total_pymnt_inv', 'total_rec_prncp',\n",
       "       'total_rec_int', 'total_rec_late_fee', 'recoveries',\n",
       "       'collection_recovery_fee', 'last_pymnt_d', 'last_pymnt_amnt',\n",
       "       'next_pymnt_d', 'last_credit_pull_d', 'pub_rec_bankruptcies'],\n",
       "      dtype='object')"
      ]
     },
     "execution_count": 14,
     "metadata": {},
     "output_type": "execute_result"
    }
   ],
   "source": [
    "loan_df.columns"
   ]
  },
  {
   "cell_type": "code",
   "execution_count": 15,
   "id": "0158a2ee",
   "metadata": {},
   "outputs": [],
   "source": [
    "#columns assigned to customer after loan is sanctioned will also not have effect.\n",
    "loansanctionedcolumns = ['out_prncp', 'out_prncp_inv', 'total_pymnt', 'total_pymnt_inv',\n",
    "       'total_rec_prncp', 'total_rec_int', 'total_rec_late_fee', 'recoveries',\n",
    "       'collection_recovery_fee', 'last_pymnt_d', 'last_pymnt_amnt',\n",
    "       'next_pymnt_d', 'last_credit_pull_d']"
   ]
  },
  {
   "cell_type": "code",
   "execution_count": 16,
   "id": "06819b0b",
   "metadata": {},
   "outputs": [],
   "source": [
    "loan_df.drop(columns=loansanctionedcolumns ,inplace= True)"
   ]
  },
  {
   "cell_type": "code",
   "execution_count": 17,
   "id": "362ad3ec",
   "metadata": {},
   "outputs": [
    {
     "data": {
      "text/plain": [
       "(39717, 32)"
      ]
     },
     "execution_count": 17,
     "metadata": {},
     "output_type": "execute_result"
    }
   ],
   "source": [
    "loan_df.shape"
   ]
  },
  {
   "cell_type": "code",
   "execution_count": 18,
   "id": "a88dba79",
   "metadata": {},
   "outputs": [
    {
     "data": {
      "text/plain": [
       "loan_amnt                     0\n",
       "funded_amnt                   0\n",
       "funded_amnt_inv               0\n",
       "term                          0\n",
       "int_rate                      0\n",
       "installment                   0\n",
       "grade                         0\n",
       "sub_grade                     0\n",
       "emp_title                  2459\n",
       "emp_length                 1075\n",
       "home_ownership                0\n",
       "annual_inc                    0\n",
       "verification_status           0\n",
       "issue_d                       0\n",
       "loan_status                   0\n",
       "desc                      12940\n",
       "purpose                       0\n",
       "title                        11\n",
       "zip_code                      0\n",
       "addr_state                    0\n",
       "dti                           0\n",
       "delinq_2yrs                   0\n",
       "earliest_cr_line              0\n",
       "inq_last_6mths                0\n",
       "mths_since_last_delinq    25682\n",
       "mths_since_last_record    36931\n",
       "open_acc                      0\n",
       "pub_rec                       0\n",
       "revol_bal                     0\n",
       "revol_util                   50\n",
       "total_acc                     0\n",
       "pub_rec_bankruptcies        697\n",
       "dtype: int64"
      ]
     },
     "execution_count": 18,
     "metadata": {},
     "output_type": "execute_result"
    }
   ],
   "source": [
    "#Fixing Mixing values - Delete rows and columns\n",
    "loan_df.isnull().sum()"
   ]
  },
  {
   "cell_type": "code",
   "execution_count": 19,
   "id": "d66c6168",
   "metadata": {},
   "outputs": [],
   "source": [
    "#columns having more than 30%  i.e 11k+ records are null values can be removed.\n",
    "nullcolumnvalues=loan_df.isnull().sum()[(loan_df.isnull().sum().values > 11000) & ((loan_df.isnull().sum().values < 39717))].index"
   ]
  },
  {
   "cell_type": "code",
   "execution_count": 20,
   "id": "69823f52",
   "metadata": {},
   "outputs": [],
   "source": [
    "loan_df.drop(columns=list(nullcolumnvalues),inplace=True)"
   ]
  },
  {
   "cell_type": "code",
   "execution_count": 21,
   "id": "6af88577",
   "metadata": {},
   "outputs": [
    {
     "data": {
      "text/plain": [
       "(39717, 29)"
      ]
     },
     "execution_count": 21,
     "metadata": {},
     "output_type": "execute_result"
    }
   ],
   "source": [
    "loan_df.shape"
   ]
  },
  {
   "cell_type": "code",
   "execution_count": 22,
   "id": "b9b87c42",
   "metadata": {},
   "outputs": [
    {
     "data": {
      "text/plain": [
       "3"
      ]
     },
     "execution_count": 22,
     "metadata": {},
     "output_type": "execute_result"
    }
   ],
   "source": [
    "#Checking if any row has null values  across all columns\n",
    "loan_df.isnull().sum(axis =1).values.max()"
   ]
  },
  {
   "cell_type": "code",
   "execution_count": 23,
   "id": "d3cdf546",
   "metadata": {},
   "outputs": [
    {
     "data": {
      "text/plain": [
       "Index(['loan_amnt', 'funded_amnt', 'funded_amnt_inv', 'term', 'int_rate',\n",
       "       'installment', 'grade', 'sub_grade', 'emp_title', 'emp_length',\n",
       "       'home_ownership', 'annual_inc', 'verification_status', 'issue_d',\n",
       "       'loan_status', 'purpose', 'title', 'zip_code', 'addr_state', 'dti',\n",
       "       'delinq_2yrs', 'earliest_cr_line', 'inq_last_6mths', 'open_acc',\n",
       "       'pub_rec', 'revol_bal', 'revol_util', 'total_acc',\n",
       "       'pub_rec_bankruptcies'],\n",
       "      dtype='object')"
      ]
     },
     "execution_count": 23,
     "metadata": {},
     "output_type": "execute_result"
    }
   ],
   "source": [
    "loan_df.columns"
   ]
  },
  {
   "cell_type": "code",
   "execution_count": 24,
   "id": "eb6a5d89",
   "metadata": {},
   "outputs": [
    {
     "data": {
      "text/plain": [
       "Fully Paid     32950\n",
       "Charged Off     5627\n",
       "Current         1140\n",
       "Name: loan_status, dtype: int64"
      ]
     },
     "execution_count": 24,
     "metadata": {},
     "output_type": "execute_result"
    }
   ],
   "source": [
    "#Filtering Data \n",
    "loan_df.loan_status.value_counts()"
   ]
  },
  {
   "cell_type": "code",
   "execution_count": 25,
   "id": "7cfa0add",
   "metadata": {},
   "outputs": [],
   "source": [
    "#Filtering Current loan status as its not required for risk analysis\n",
    "loan_df = loan_df[~(loan_df.loan_status== 'Current')]"
   ]
  },
  {
   "cell_type": "code",
   "execution_count": 26,
   "id": "1ebef786",
   "metadata": {},
   "outputs": [
    {
     "data": {
      "text/plain": [
       "(38577, 29)"
      ]
     },
     "execution_count": 26,
     "metadata": {},
     "output_type": "execute_result"
    }
   ],
   "source": [
    "loan_df.shape"
   ]
  },
  {
   "cell_type": "markdown",
   "id": "7d7e5e26",
   "metadata": {},
   "source": [
    "### Univariate Analysis"
   ]
  },
  {
   "cell_type": "code",
   "execution_count": 27,
   "id": "8e214c8f",
   "metadata": {},
   "outputs": [
    {
     "data": {
      "text/plain": [
       " 36 months    29096\n",
       " 60 months     9481\n",
       "Name: term, dtype: int64"
      ]
     },
     "execution_count": 27,
     "metadata": {},
     "output_type": "execute_result"
    }
   ],
   "source": [
    "loan_df.term.value_counts()"
   ]
  },
  {
   "cell_type": "code",
   "execution_count": 28,
   "id": "0bee63bf",
   "metadata": {},
   "outputs": [
    {
     "data": {
      "text/plain": [
       "10.99%    913\n",
       "11.49%    790\n",
       "7.51%     787\n",
       "13.49%    749\n",
       "7.88%     725\n",
       "         ... \n",
       "16.96%      1\n",
       "18.36%      1\n",
       "16.15%      1\n",
       "16.01%      1\n",
       "16.20%      1\n",
       "Name: int_rate, Length: 370, dtype: int64"
      ]
     },
     "execution_count": 28,
     "metadata": {},
     "output_type": "execute_result"
    }
   ],
   "source": [
    "loan_df.int_rate.value_counts()"
   ]
  },
  {
   "cell_type": "code",
   "execution_count": 29,
   "id": "b15f8036",
   "metadata": {},
   "outputs": [],
   "source": [
    "#removing % to perform aggregate function\n",
    "loan_df['int_rate'] = loan_df['int_rate'].apply(lambda x : pd.to_numeric(x.split(\"%\")[0]))"
   ]
  },
  {
   "cell_type": "code",
   "execution_count": 30,
   "id": "ee0a20f7",
   "metadata": {},
   "outputs": [
    {
     "data": {
      "text/plain": [
       "count    38577.000000\n",
       "mean        11.932219\n",
       "std          3.691327\n",
       "min          5.420000\n",
       "25%          8.940000\n",
       "50%         11.710000\n",
       "75%         14.380000\n",
       "max         24.400000\n",
       "Name: int_rate, dtype: float64"
      ]
     },
     "execution_count": 30,
     "metadata": {},
     "output_type": "execute_result"
    }
   ],
   "source": [
    "loan_df.int_rate.describe()"
   ]
  },
  {
   "cell_type": "code",
   "execution_count": 31,
   "id": "92cd474c",
   "metadata": {},
   "outputs": [],
   "source": [
    "import matplotlib.pyplot as plt"
   ]
  },
  {
   "cell_type": "code",
   "execution_count": 32,
   "id": "3c6f85d8",
   "metadata": {},
   "outputs": [
    {
     "data": {
      "text/plain": [
       "<Axes: >"
      ]
     },
     "execution_count": 32,
     "metadata": {},
     "output_type": "execute_result"
    },
    {
     "data": {
      "image/png": "[encoded data removed]",
      "text/plain": [
       "<Figure size 640x480 with 1 Axes>"
      ]
     },
     "metadata": {},
     "output_type": "display_data"
    }
   ],
   "source": [
    "loan_df['int_rate'].plot.box()"
   ]
  },
  {
   "cell_type": "code",
   "execution_count": 33,
   "id": "04a92faf",
   "metadata": {},
   "outputs": [],
   "source": [
    "##The plot shows there are outliner values in the int_rate."
   ]
  },
  {
   "cell_type": "code",
   "execution_count": 34,
   "id": "62f54022",
   "metadata": {},
   "outputs": [
    {
     "data": {
      "text/plain": [
       "B    11675\n",
       "A    10045\n",
       "C     7834\n",
       "D     5085\n",
       "E     2663\n",
       "F      976\n",
       "G      299\n",
       "Name: grade, dtype: int64"
      ]
     },
     "execution_count": 34,
     "metadata": {},
     "output_type": "execute_result"
    }
   ],
   "source": [
    "loan_df.grade.value_counts()"
   ]
  },
  {
   "cell_type": "code",
   "execution_count": 35,
   "id": "64a1b45c",
   "metadata": {},
   "outputs": [
    {
     "data": {
      "text/plain": [
       "A4    2873\n",
       "B3    2825\n",
       "A5    2715\n",
       "B5    2615\n",
       "B4    2437\n",
       "C1    2055\n",
       "B2    2001\n",
       "C2    1931\n",
       "A3    1810\n",
       "B1    1797\n",
       "A2    1508\n",
       "C3    1488\n",
       "D2    1286\n",
       "C4    1206\n",
       "C5    1154\n",
       "A1    1139\n",
       "D3    1116\n",
       "D1     931\n",
       "D4     918\n",
       "D5     834\n",
       "E1     722\n",
       "E2     614\n",
       "E3     516\n",
       "E4     424\n",
       "E5     387\n",
       "F1     305\n",
       "F2     233\n",
       "F3     174\n",
       "F4     151\n",
       "F5     113\n",
       "G1      94\n",
       "G2      77\n",
       "G4      54\n",
       "G3      45\n",
       "G5      29\n",
       "Name: sub_grade, dtype: int64"
      ]
     },
     "execution_count": 35,
     "metadata": {},
     "output_type": "execute_result"
    }
   ],
   "source": [
    "loan_df.sub_grade.value_counts()"
   ]
  },
  {
   "cell_type": "code",
   "execution_count": 36,
   "id": "d358e2a3",
   "metadata": {},
   "outputs": [
    {
     "data": {
      "text/plain": [
       "US Army                                     131\n",
       "Bank of America                             107\n",
       "IBM                                          65\n",
       "AT&T                                         57\n",
       "Kaiser Permanente                            56\n",
       "                                           ... \n",
       "amneal pharmaceuticals                        1\n",
       "Net Equity Financial                          1\n",
       "Kernersville Fire Department                  1\n",
       "The Keith Corp. (empl by county, now Kei      1\n",
       "Evergreen Center                              1\n",
       "Name: emp_title, Length: 28027, dtype: int64"
      ]
     },
     "execution_count": 36,
     "metadata": {},
     "output_type": "execute_result"
    }
   ],
   "source": [
    "loan_df['emp_title'].value_counts()"
   ]
  },
  {
   "cell_type": "code",
   "execution_count": 37,
   "id": "bde7a93d",
   "metadata": {},
   "outputs": [
    {
     "data": {
      "text/plain": [
       "10+ years    8488\n",
       "< 1 year     4508\n",
       "2 years      4291\n",
       "3 years      4012\n",
       "4 years      3342\n",
       "5 years      3194\n",
       "1 year       3169\n",
       "6 years      2168\n",
       "7 years      1711\n",
       "8 years      1435\n",
       "9 years      1226\n",
       "Name: emp_length, dtype: int64"
      ]
     },
     "execution_count": 37,
     "metadata": {},
     "output_type": "execute_result"
    }
   ],
   "source": [
    "loan_df['emp_length'].value_counts()"
   ]
  },
  {
   "cell_type": "code",
   "execution_count": 38,
   "id": "926233c5",
   "metadata": {},
   "outputs": [
    {
     "data": {
      "text/plain": [
       "RENT        18480\n",
       "MORTGAGE    17021\n",
       "OWN          2975\n",
       "OTHER          98\n",
       "NONE            3\n",
       "Name: home_ownership, dtype: int64"
      ]
     },
     "execution_count": 38,
     "metadata": {},
     "output_type": "execute_result"
    }
   ],
   "source": [
    "loan_df['home_ownership'].value_counts()"
   ]
  },
  {
   "cell_type": "code",
   "execution_count": 39,
   "id": "05394f08",
   "metadata": {},
   "outputs": [
    {
     "data": {
      "text/plain": [
       "Not Verified       16694\n",
       "Verified           12206\n",
       "Source Verified     9677\n",
       "Name: verification_status, dtype: int64"
      ]
     },
     "execution_count": 39,
     "metadata": {},
     "output_type": "execute_result"
    }
   ],
   "source": [
    "loan_df['verification_status'].value_counts()"
   ]
  },
  {
   "cell_type": "code",
   "execution_count": 40,
   "id": "b11df10b",
   "metadata": {},
   "outputs": [
    {
     "data": {
      "text/plain": [
       "Nov-11    2062\n",
       "Dec-11    2042\n",
       "Oct-11    1941\n",
       "Sep-11    1913\n",
       "Aug-11    1798\n",
       "Jul-11    1745\n",
       "Jun-11    1728\n",
       "May-11    1609\n",
       "Apr-11    1559\n",
       "Mar-11    1442\n",
       "Jan-11    1380\n",
       "Feb-11    1297\n",
       "Dec-10    1267\n",
       "Oct-10    1132\n",
       "Nov-10    1121\n",
       "Jul-10    1119\n",
       "Sep-10    1086\n",
       "Aug-10    1078\n",
       "Jun-10    1029\n",
       "May-10     920\n",
       "Apr-10     827\n",
       "Mar-10     737\n",
       "Feb-10     627\n",
       "Nov-09     602\n",
       "Dec-09     598\n",
       "Jan-10     589\n",
       "Oct-09     545\n",
       "Sep-09     449\n",
       "Aug-09     408\n",
       "Jul-09     374\n",
       "Jun-09     356\n",
       "May-09     319\n",
       "Apr-09     290\n",
       "Mar-09     276\n",
       "Feb-09     260\n",
       "Jan-09     239\n",
       "Mar-08     236\n",
       "Dec-08     223\n",
       "Nov-08     184\n",
       "Feb-08     174\n",
       "Jan-08     171\n",
       "Apr-08     155\n",
       "Oct-08      96\n",
       "Dec-07      85\n",
       "Jul-08      83\n",
       "May-08      71\n",
       "Aug-08      71\n",
       "Jun-08      66\n",
       "Oct-07      47\n",
       "Nov-07      37\n",
       "Aug-07      33\n",
       "Sep-08      32\n",
       "Jul-07      30\n",
       "Sep-07      18\n",
       "Jun-07       1\n",
       "Name: issue_d, dtype: int64"
      ]
     },
     "execution_count": 40,
     "metadata": {},
     "output_type": "execute_result"
    }
   ],
   "source": [
    "loan_df['issue_d'].value_counts()"
   ]
  },
  {
   "cell_type": "code",
   "execution_count": 41,
   "id": "b317de3d",
   "metadata": {},
   "outputs": [
    {
     "name": "stderr",
     "output_type": "stream",
     "text": [
      "C:\\Users\\Administrator\\AppData\\Local\\Temp\\ipykernel_12784\\3874173415.py:1: FutureWarning: Columnar iteration over characters will be deprecated in future releases.\n",
      "  month,year = loan_df['issue_d'].str.split('-').str\n"
     ]
    }
   ],
   "source": [
    "month,year = loan_df['issue_d'].str.split('-').str"
   ]
  },
  {
   "cell_type": "code",
   "execution_count": 42,
   "id": "8d503667",
   "metadata": {},
   "outputs": [],
   "source": [
    "loan_df['issued_year'] = pd.to_numeric(year)"
   ]
  },
  {
   "cell_type": "code",
   "execution_count": 43,
   "id": "b4733115",
   "metadata": {},
   "outputs": [],
   "source": [
    "loan_df['issued_month'] = month"
   ]
  },
  {
   "cell_type": "code",
   "execution_count": 44,
   "id": "a30b3597",
   "metadata": {},
   "outputs": [
    {
     "data": {
      "text/plain": [
       "11    20516\n",
       "10    11532\n",
       "9      4716\n",
       "8      1562\n",
       "7       251\n",
       "Name: issued_year, dtype: int64"
      ]
     },
     "execution_count": 44,
     "metadata": {},
     "output_type": "execute_result"
    }
   ],
   "source": [
    "loan_df['issued_year'].value_counts()"
   ]
  },
  {
   "cell_type": "code",
   "execution_count": 45,
   "id": "09689422",
   "metadata": {},
   "outputs": [
    {
     "data": {
      "text/plain": [
       "Dec    4215\n",
       "Nov    4006\n",
       "Oct    3761\n",
       "Sep    3498\n",
       "Aug    3388\n",
       "Jul    3351\n",
       "Jun    3180\n",
       "May    2919\n",
       "Apr    2831\n",
       "Mar    2691\n",
       "Jan    2379\n",
       "Feb    2358\n",
       "Name: issued_month, dtype: int64"
      ]
     },
     "execution_count": 45,
     "metadata": {},
     "output_type": "execute_result"
    }
   ],
   "source": [
    "loan_df['issued_month'].value_counts()"
   ]
  },
  {
   "cell_type": "code",
   "execution_count": 46,
   "id": "63b0f962",
   "metadata": {},
   "outputs": [],
   "source": [
    "loan_df.drop(columns=['issue_d'],inplace=True)"
   ]
  },
  {
   "cell_type": "code",
   "execution_count": 47,
   "id": "5e242b58",
   "metadata": {},
   "outputs": [
    {
     "data": {
      "text/plain": [
       "debt_consolidation    18055\n",
       "credit_card            5027\n",
       "other                  3865\n",
       "home_improvement       2875\n",
       "major_purchase         2150\n",
       "small_business         1754\n",
       "car                    1499\n",
       "wedding                 926\n",
       "medical                 681\n",
       "moving                  576\n",
       "vacation                375\n",
       "house                   367\n",
       "educational             325\n",
       "renewable_energy        102\n",
       "Name: purpose, dtype: int64"
      ]
     },
     "execution_count": 47,
     "metadata": {},
     "output_type": "execute_result"
    }
   ],
   "source": [
    "loan_df['purpose'].value_counts()"
   ]
  },
  {
   "cell_type": "code",
   "execution_count": 48,
   "id": "1b20bcf6",
   "metadata": {},
   "outputs": [
    {
     "data": {
      "text/plain": [
       "Debt Consolidation           2090\n",
       "Debt Consolidation Loan      1620\n",
       "Personal Loan                 641\n",
       "Consolidation                 491\n",
       "debt consolidation            478\n",
       "                             ... \n",
       "Murray Loan                     1\n",
       "Need debt consolidation!        1\n",
       "freedom2                        1\n",
       "DAVE WEDDING                    1\n",
       "JAL Loan                        1\n",
       "Name: title, Length: 19297, dtype: int64"
      ]
     },
     "execution_count": 48,
     "metadata": {},
     "output_type": "execute_result"
    }
   ],
   "source": [
    "loan_df['title'].value_counts()"
   ]
  },
  {
   "cell_type": "code",
   "execution_count": 49,
   "id": "e73d5b34",
   "metadata": {},
   "outputs": [],
   "source": [
    "#Dropping this columns has it has many unique values and not requied for analysis\n",
    "loan_df.drop(columns=['title'],inplace=True)"
   ]
  },
  {
   "cell_type": "code",
   "execution_count": 50,
   "id": "47ab181f",
   "metadata": {},
   "outputs": [
    {
     "data": {
      "text/plain": [
       "Oct-99    360\n",
       "Nov-98    357\n",
       "Oct-00    341\n",
       "Dec-98    340\n",
       "Dec-97    318\n",
       "         ... \n",
       "Nov-65      1\n",
       "Feb-73      1\n",
       "Oct-08      1\n",
       "Dec-61      1\n",
       "Oct-74      1\n",
       "Name: earliest_cr_line, Length: 524, dtype: int64"
      ]
     },
     "execution_count": 50,
     "metadata": {},
     "output_type": "execute_result"
    }
   ],
   "source": [
    "loan_df['earliest_cr_line'].value_counts()"
   ]
  },
  {
   "cell_type": "code",
   "execution_count": 51,
   "id": "462fd377",
   "metadata": {},
   "outputs": [
    {
     "name": "stderr",
     "output_type": "stream",
     "text": [
      "C:\\Users\\Administrator\\AppData\\Local\\Temp\\ipykernel_12784\\1365320374.py:1: FutureWarning: Columnar iteration over characters will be deprecated in future releases.\n",
      "  earliest_cr_line_month,earliest_cr_line_year = loan_df['earliest_cr_line'].str.split('-').str\n"
     ]
    }
   ],
   "source": [
    "earliest_cr_line_month,earliest_cr_line_year = loan_df['earliest_cr_line'].str.split('-').str"
   ]
  },
  {
   "cell_type": "code",
   "execution_count": 52,
   "id": "d2af5a2e",
   "metadata": {},
   "outputs": [
    {
     "data": {
      "text/plain": [
       "00    3160\n",
       "99    2896\n",
       "98    2773\n",
       "01    2462\n",
       "97    2387\n",
       "96    2202\n",
       "95    2078\n",
       "94    1948\n",
       "02    1890\n",
       "03    1813\n",
       "04    1727\n",
       "05    1467\n",
       "93    1460\n",
       "06    1154\n",
       "92    1029\n",
       "90    1005\n",
       "91     945\n",
       "89     834\n",
       "88     709\n",
       "07     698\n",
       "87     590\n",
       "86     478\n",
       "85     439\n",
       "84     395\n",
       "83     322\n",
       "82     215\n",
       "81     181\n",
       "80     175\n",
       "78     161\n",
       "79     157\n",
       "08     153\n",
       "77     112\n",
       "76      93\n",
       "75      83\n",
       "74      62\n",
       "73      61\n",
       "72      49\n",
       "70      47\n",
       "71      45\n",
       "69      37\n",
       "68      19\n",
       "67      18\n",
       "66      11\n",
       "63      10\n",
       "65       8\n",
       "64       6\n",
       "62       5\n",
       "54       2\n",
       "61       2\n",
       "59       1\n",
       "56       1\n",
       "46       1\n",
       "50       1\n",
       "Name: earliest_cr_line, dtype: int64"
      ]
     },
     "execution_count": 52,
     "metadata": {},
     "output_type": "execute_result"
    }
   ],
   "source": [
    "earliest_cr_line_year.value_counts()"
   ]
  },
  {
   "cell_type": "code",
   "execution_count": 53,
   "id": "38fba841",
   "metadata": {},
   "outputs": [
    {
     "data": {
      "text/html": [
       "<div>\n",
       "<style scoped>\n",
       "    .dataframe tbody tr th:only-of-type {\n",
       "        vertical-align: middle;\n",
       "    }\n",
       "\n",
       "    .dataframe tbody tr th {\n",
       "        vertical-align: top;\n",
       "    }\n",
       "\n",
       "    .dataframe thead th {\n",
       "        text-align: right;\n",
       "    }\n",
       "</style>\n",
       "<table border=\"1\" class=\"dataframe\">\n",
       "  <thead>\n",
       "    <tr style=\"text-align: right;\">\n",
       "      <th></th>\n",
       "      <th>loan_amnt</th>\n",
       "      <th>funded_amnt</th>\n",
       "      <th>funded_amnt_inv</th>\n",
       "      <th>int_rate</th>\n",
       "      <th>installment</th>\n",
       "      <th>annual_inc</th>\n",
       "      <th>dti</th>\n",
       "      <th>delinq_2yrs</th>\n",
       "      <th>inq_last_6mths</th>\n",
       "      <th>open_acc</th>\n",
       "      <th>pub_rec</th>\n",
       "      <th>revol_bal</th>\n",
       "      <th>total_acc</th>\n",
       "      <th>pub_rec_bankruptcies</th>\n",
       "      <th>issued_year</th>\n",
       "    </tr>\n",
       "  </thead>\n",
       "  <tbody>\n",
       "    <tr>\n",
       "      <th>count</th>\n",
       "      <td>38577.000000</td>\n",
       "      <td>38577.000000</td>\n",
       "      <td>38577.000000</td>\n",
       "      <td>38577.000000</td>\n",
       "      <td>38577.000000</td>\n",
       "      <td>3.857700e+04</td>\n",
       "      <td>38577.000000</td>\n",
       "      <td>38577.000000</td>\n",
       "      <td>38577.000000</td>\n",
       "      <td>38577.000000</td>\n",
       "      <td>38577.000000</td>\n",
       "      <td>38577.000000</td>\n",
       "      <td>38577.000000</td>\n",
       "      <td>37880.000000</td>\n",
       "      <td>38577.000000</td>\n",
       "    </tr>\n",
       "    <tr>\n",
       "      <th>mean</th>\n",
       "      <td>11047.025430</td>\n",
       "      <td>10784.058506</td>\n",
       "      <td>10222.481123</td>\n",
       "      <td>11.932219</td>\n",
       "      <td>322.466318</td>\n",
       "      <td>6.877797e+04</td>\n",
       "      <td>13.272727</td>\n",
       "      <td>0.146668</td>\n",
       "      <td>0.871737</td>\n",
       "      <td>9.275423</td>\n",
       "      <td>0.055422</td>\n",
       "      <td>13289.489826</td>\n",
       "      <td>22.052648</td>\n",
       "      <td>0.043479</td>\n",
       "      <td>10.309070</td>\n",
       "    </tr>\n",
       "    <tr>\n",
       "      <th>std</th>\n",
       "      <td>7348.441646</td>\n",
       "      <td>7090.306027</td>\n",
       "      <td>7022.720644</td>\n",
       "      <td>3.691327</td>\n",
       "      <td>208.639215</td>\n",
       "      <td>6.421868e+04</td>\n",
       "      <td>6.673044</td>\n",
       "      <td>0.492271</td>\n",
       "      <td>1.071546</td>\n",
       "      <td>4.401588</td>\n",
       "      <td>0.237804</td>\n",
       "      <td>15866.492241</td>\n",
       "      <td>11.425861</td>\n",
       "      <td>0.204583</td>\n",
       "      <td>0.882658</td>\n",
       "    </tr>\n",
       "    <tr>\n",
       "      <th>min</th>\n",
       "      <td>500.000000</td>\n",
       "      <td>500.000000</td>\n",
       "      <td>0.000000</td>\n",
       "      <td>5.420000</td>\n",
       "      <td>15.690000</td>\n",
       "      <td>4.000000e+03</td>\n",
       "      <td>0.000000</td>\n",
       "      <td>0.000000</td>\n",
       "      <td>0.000000</td>\n",
       "      <td>2.000000</td>\n",
       "      <td>0.000000</td>\n",
       "      <td>0.000000</td>\n",
       "      <td>2.000000</td>\n",
       "      <td>0.000000</td>\n",
       "      <td>7.000000</td>\n",
       "    </tr>\n",
       "    <tr>\n",
       "      <th>25%</th>\n",
       "      <td>5300.000000</td>\n",
       "      <td>5200.000000</td>\n",
       "      <td>5000.000000</td>\n",
       "      <td>8.940000</td>\n",
       "      <td>165.740000</td>\n",
       "      <td>4.000000e+04</td>\n",
       "      <td>8.130000</td>\n",
       "      <td>0.000000</td>\n",
       "      <td>0.000000</td>\n",
       "      <td>6.000000</td>\n",
       "      <td>0.000000</td>\n",
       "      <td>3650.000000</td>\n",
       "      <td>13.000000</td>\n",
       "      <td>0.000000</td>\n",
       "      <td>10.000000</td>\n",
       "    </tr>\n",
       "    <tr>\n",
       "      <th>50%</th>\n",
       "      <td>9600.000000</td>\n",
       "      <td>9550.000000</td>\n",
       "      <td>8733.440000</td>\n",
       "      <td>11.710000</td>\n",
       "      <td>277.860000</td>\n",
       "      <td>5.886800e+04</td>\n",
       "      <td>13.370000</td>\n",
       "      <td>0.000000</td>\n",
       "      <td>1.000000</td>\n",
       "      <td>9.000000</td>\n",
       "      <td>0.000000</td>\n",
       "      <td>8762.000000</td>\n",
       "      <td>20.000000</td>\n",
       "      <td>0.000000</td>\n",
       "      <td>11.000000</td>\n",
       "    </tr>\n",
       "    <tr>\n",
       "      <th>75%</th>\n",
       "      <td>15000.000000</td>\n",
       "      <td>15000.000000</td>\n",
       "      <td>14000.000000</td>\n",
       "      <td>14.380000</td>\n",
       "      <td>425.550000</td>\n",
       "      <td>8.200000e+04</td>\n",
       "      <td>18.560000</td>\n",
       "      <td>0.000000</td>\n",
       "      <td>1.000000</td>\n",
       "      <td>12.000000</td>\n",
       "      <td>0.000000</td>\n",
       "      <td>16912.000000</td>\n",
       "      <td>29.000000</td>\n",
       "      <td>0.000000</td>\n",
       "      <td>11.000000</td>\n",
       "    </tr>\n",
       "    <tr>\n",
       "      <th>max</th>\n",
       "      <td>35000.000000</td>\n",
       "      <td>35000.000000</td>\n",
       "      <td>35000.000000</td>\n",
       "      <td>24.400000</td>\n",
       "      <td>1305.190000</td>\n",
       "      <td>6.000000e+06</td>\n",
       "      <td>29.990000</td>\n",
       "      <td>11.000000</td>\n",
       "      <td>8.000000</td>\n",
       "      <td>44.000000</td>\n",
       "      <td>4.000000</td>\n",
       "      <td>149588.000000</td>\n",
       "      <td>90.000000</td>\n",
       "      <td>2.000000</td>\n",
       "      <td>11.000000</td>\n",
       "    </tr>\n",
       "  </tbody>\n",
       "</table>\n",
       "</div>"
      ],
      "text/plain": [
       "          loan_amnt   funded_amnt  funded_amnt_inv      int_rate  \\\n",
       "count  38577.000000  38577.000000     38577.000000  38577.000000   \n",
       "mean   11047.025430  10784.058506     10222.481123     11.932219   \n",
       "std     7348.441646   7090.306027      7022.720644      3.691327   \n",
       "min      500.000000    500.000000         0.000000      5.420000   \n",
       "25%     5300.000000   5200.000000      5000.000000      8.940000   \n",
       "50%     9600.000000   9550.000000      8733.440000     11.710000   \n",
       "75%    15000.000000  15000.000000     14000.000000     14.380000   \n",
       "max    35000.000000  35000.000000     35000.000000     24.400000   \n",
       "\n",
       "        installment    annual_inc           dti   delinq_2yrs  inq_last_6mths  \\\n",
       "count  38577.000000  3.857700e+04  38577.000000  38577.000000    38577.000000   \n",
       "mean     322.466318  6.877797e+04     13.272727      0.146668        0.871737   \n",
       "std      208.639215  6.421868e+04      6.673044      0.492271        1.071546   \n",
       "min       15.690000  4.000000e+03      0.000000      0.000000        0.000000   \n",
       "25%      165.740000  4.000000e+04      8.130000      0.000000        0.000000   \n",
       "50%      277.860000  5.886800e+04     13.370000      0.000000        1.000000   \n",
       "75%      425.550000  8.200000e+04     18.560000      0.000000        1.000000   \n",
       "max     1305.190000  6.000000e+06     29.990000     11.000000        8.000000   \n",
       "\n",
       "           open_acc       pub_rec      revol_bal     total_acc  \\\n",
       "count  38577.000000  38577.000000   38577.000000  38577.000000   \n",
       "mean       9.275423      0.055422   13289.489826     22.052648   \n",
       "std        4.401588      0.237804   15866.492241     11.425861   \n",
       "min        2.000000      0.000000       0.000000      2.000000   \n",
       "25%        6.000000      0.000000    3650.000000     13.000000   \n",
       "50%        9.000000      0.000000    8762.000000     20.000000   \n",
       "75%       12.000000      0.000000   16912.000000     29.000000   \n",
       "max       44.000000      4.000000  149588.000000     90.000000   \n",
       "\n",
       "       pub_rec_bankruptcies   issued_year  \n",
       "count          37880.000000  38577.000000  \n",
       "mean               0.043479     10.309070  \n",
       "std                0.204583      0.882658  \n",
       "min                0.000000      7.000000  \n",
       "25%                0.000000     10.000000  \n",
       "50%                0.000000     11.000000  \n",
       "75%                0.000000     11.000000  \n",
       "max                2.000000     11.000000  "
      ]
     },
     "execution_count": 53,
     "metadata": {},
     "output_type": "execute_result"
    }
   ],
   "source": [
    "loan_df.describe()"
   ]
  },
  {
   "cell_type": "code",
   "execution_count": 54,
   "id": "2ca29fb7",
   "metadata": {},
   "outputs": [
    {
     "data": {
      "text/plain": [
       "Fully Paid     0.854136\n",
       "Charged Off    0.145864\n",
       "Name: loan_status, dtype: float64"
      ]
     },
     "execution_count": 54,
     "metadata": {},
     "output_type": "execute_result"
    }
   ],
   "source": [
    "loan_df['loan_status'].value_counts(normalize=True)"
   ]
  },
  {
   "cell_type": "markdown",
   "id": "dd31eac5",
   "metadata": {},
   "source": [
    "### Segmented Univariate Analysis"
   ]
  },
  {
   "cell_type": "markdown",
   "id": "11d8c18c",
   "metadata": {},
   "source": [
    "  #### Segmented univariate continuous variables analysis"
   ]
  },
  {
   "cell_type": "code",
   "execution_count": 55,
   "id": "8ffd71a5",
   "metadata": {},
   "outputs": [
    {
     "data": {
      "text/plain": [
       "count    38577.000000\n",
       "mean     11047.025430\n",
       "std       7348.441646\n",
       "min        500.000000\n",
       "25%       5300.000000\n",
       "50%       9600.000000\n",
       "75%      15000.000000\n",
       "max      35000.000000\n",
       "Name: loan_amnt, dtype: float64"
      ]
     },
     "execution_count": 55,
     "metadata": {},
     "output_type": "execute_result"
    }
   ],
   "source": [
    "loan_df['loan_amnt'].describe()"
   ]
  },
  {
   "cell_type": "code",
   "execution_count": 56,
   "id": "01c44400",
   "metadata": {},
   "outputs": [
    {
     "data": {
      "text/plain": [
       "<Axes: title={'center': 'loan_amnt'}, xlabel='loan_status'>"
      ]
     },
     "execution_count": 56,
     "metadata": {},
     "output_type": "execute_result"
    },
    {
     "data": {
      "image/png": "[encoded data removed]",
      "text/plain": [
       "<Figure size 640x480 with 1 Axes>"
      ]
     },
     "metadata": {},
     "output_type": "display_data"
    }
   ],
   "source": [
    "loan_df.boxplot(column='loan_amnt',by='loan_status')"
   ]
  },
  {
   "cell_type": "markdown",
   "id": "cacf960a",
   "metadata": {},
   "source": [
    "### As seen from huge difference in mean and median , and box plot there are outliners.Considering 75 quartile in plot its clear as higher the amount  there is higher risk of loan default\n"
   ]
  },
  {
   "cell_type": "markdown",
   "id": "003889a9",
   "metadata": {},
   "source": [
    "## segmented cateorical analysis"
   ]
  },
  {
   "cell_type": "code",
   "execution_count": 57,
   "id": "bac3e9a9",
   "metadata": {},
   "outputs": [],
   "source": [
    "def univariateSegementedAnalysis(column,data=loan_df):\n",
    "    loan_df['loan_status_numeric'] = loan_df['loan_status'].apply(lambda x: 1 if x== 'Charged Off' else 0 )\n",
    "    \n",
    "    if((loan_df[column].dtypes == 'O') | (column in ['pub_rec','issued_year','issued_month','pub_rec_bankruptcies'])):\n",
    "        new_percentile_column = column + '_div'\n",
    "        data[ new_percentile_column]=data[column]\n",
    "    else:\n",
    "        new_percentile_column = column + '_percentile'\n",
    "        data[ new_percentile_column]= pd.qcut(loan_df[column],q=5,labels=['Lowest','Lower','Medium','Higher','Highest'])\n",
    "    loan_grp_by_df = loan_df.groupby(new_percentile_column)['loan_status_numeric'].value_counts(normalize =True).rename(\"Charged off %\").reset_index()\n",
    "    loan_grp_by_df = loan_grp_by_df.loc[loan_grp_by_df.loan_status_numeric ==1].sort_values('Charged off %',ascending=False).drop(columns=['loan_status_numeric']).reset_index(drop=True)\n",
    "    return loan_grp_by_df\n"
   ]
  },
  {
   "cell_type": "code",
   "execution_count": 58,
   "id": "fe60adc8",
   "metadata": {},
   "outputs": [
    {
     "data": {
      "text/plain": [
       "Index(['loan_amnt', 'funded_amnt', 'funded_amnt_inv', 'term', 'int_rate',\n",
       "       'installment', 'grade', 'sub_grade', 'emp_title', 'emp_length',\n",
       "       'home_ownership', 'annual_inc', 'verification_status', 'loan_status',\n",
       "       'purpose', 'zip_code', 'addr_state', 'dti', 'delinq_2yrs',\n",
       "       'earliest_cr_line', 'inq_last_6mths', 'open_acc', 'pub_rec',\n",
       "       'revol_bal', 'revol_util', 'total_acc', 'pub_rec_bankruptcies',\n",
       "       'issued_year', 'issued_month'],\n",
       "      dtype='object')"
      ]
     },
     "execution_count": 58,
     "metadata": {},
     "output_type": "execute_result"
    }
   ],
   "source": [
    "loan_df.columns"
   ]
  },
  {
   "cell_type": "code",
   "execution_count": 59,
   "id": "47347ddb",
   "metadata": {},
   "outputs": [
    {
     "data": {
      "text/html": [
       "<div>\n",
       "<style scoped>\n",
       "    .dataframe tbody tr th:only-of-type {\n",
       "        vertical-align: middle;\n",
       "    }\n",
       "\n",
       "    .dataframe tbody tr th {\n",
       "        vertical-align: top;\n",
       "    }\n",
       "\n",
       "    .dataframe thead th {\n",
       "        text-align: right;\n",
       "    }\n",
       "</style>\n",
       "<table border=\"1\" class=\"dataframe\">\n",
       "  <thead>\n",
       "    <tr style=\"text-align: right;\">\n",
       "      <th></th>\n",
       "      <th>loan_amnt_percentile</th>\n",
       "      <th>Charged off %</th>\n",
       "    </tr>\n",
       "  </thead>\n",
       "  <tbody>\n",
       "    <tr>\n",
       "      <th>0</th>\n",
       "      <td>Highest</td>\n",
       "      <td>0.187624</td>\n",
       "    </tr>\n",
       "    <tr>\n",
       "      <th>1</th>\n",
       "      <td>Higher</td>\n",
       "      <td>0.145368</td>\n",
       "    </tr>\n",
       "    <tr>\n",
       "      <th>2</th>\n",
       "      <td>Lowest</td>\n",
       "      <td>0.138725</td>\n",
       "    </tr>\n",
       "    <tr>\n",
       "      <th>3</th>\n",
       "      <td>Medium</td>\n",
       "      <td>0.131613</td>\n",
       "    </tr>\n",
       "    <tr>\n",
       "      <th>4</th>\n",
       "      <td>Lower</td>\n",
       "      <td>0.123521</td>\n",
       "    </tr>\n",
       "  </tbody>\n",
       "</table>\n",
       "</div>"
      ],
      "text/plain": [
       "  loan_amnt_percentile  Charged off %\n",
       "0              Highest       0.187624\n",
       "1               Higher       0.145368\n",
       "2               Lowest       0.138725\n",
       "3               Medium       0.131613\n",
       "4                Lower       0.123521"
      ]
     },
     "execution_count": 59,
     "metadata": {},
     "output_type": "execute_result"
    }
   ],
   "source": [
    "univariateSegementedAnalysis(column='loan_amnt')"
   ]
  },
  {
   "cell_type": "markdown",
   "id": "7ff2afbc",
   "metadata": {},
   "source": [
    "Conslusion: Higher the loan amount higher the chances of charged off"
   ]
  },
  {
   "cell_type": "code",
   "execution_count": 60,
   "id": "0e8a0e5f",
   "metadata": {},
   "outputs": [
    {
     "data": {
      "text/html": [
       "<div>\n",
       "<style scoped>\n",
       "    .dataframe tbody tr th:only-of-type {\n",
       "        vertical-align: middle;\n",
       "    }\n",
       "\n",
       "    .dataframe tbody tr th {\n",
       "        vertical-align: top;\n",
       "    }\n",
       "\n",
       "    .dataframe thead th {\n",
       "        text-align: right;\n",
       "    }\n",
       "</style>\n",
       "<table border=\"1\" class=\"dataframe\">\n",
       "  <thead>\n",
       "    <tr style=\"text-align: right;\">\n",
       "      <th></th>\n",
       "      <th>funded_amnt_percentile</th>\n",
       "      <th>Charged off %</th>\n",
       "    </tr>\n",
       "  </thead>\n",
       "  <tbody>\n",
       "    <tr>\n",
       "      <th>0</th>\n",
       "      <td>Highest</td>\n",
       "      <td>0.190213</td>\n",
       "    </tr>\n",
       "    <tr>\n",
       "      <th>1</th>\n",
       "      <td>Higher</td>\n",
       "      <td>0.143829</td>\n",
       "    </tr>\n",
       "    <tr>\n",
       "      <th>2</th>\n",
       "      <td>Lowest</td>\n",
       "      <td>0.139299</td>\n",
       "    </tr>\n",
       "    <tr>\n",
       "      <th>3</th>\n",
       "      <td>Medium</td>\n",
       "      <td>0.136805</td>\n",
       "    </tr>\n",
       "    <tr>\n",
       "      <th>4</th>\n",
       "      <td>Lower</td>\n",
       "      <td>0.118425</td>\n",
       "    </tr>\n",
       "  </tbody>\n",
       "</table>\n",
       "</div>"
      ],
      "text/plain": [
       "  funded_amnt_percentile  Charged off %\n",
       "0                Highest       0.190213\n",
       "1                 Higher       0.143829\n",
       "2                 Lowest       0.139299\n",
       "3                 Medium       0.136805\n",
       "4                  Lower       0.118425"
      ]
     },
     "execution_count": 60,
     "metadata": {},
     "output_type": "execute_result"
    }
   ],
   "source": [
    "univariateSegementedAnalysis(column='funded_amnt')"
   ]
  },
  {
   "cell_type": "code",
   "execution_count": 61,
   "id": "0fd11356",
   "metadata": {},
   "outputs": [
    {
     "data": {
      "text/html": [
       "<div>\n",
       "<style scoped>\n",
       "    .dataframe tbody tr th:only-of-type {\n",
       "        vertical-align: middle;\n",
       "    }\n",
       "\n",
       "    .dataframe tbody tr th {\n",
       "        vertical-align: top;\n",
       "    }\n",
       "\n",
       "    .dataframe thead th {\n",
       "        text-align: right;\n",
       "    }\n",
       "</style>\n",
       "<table border=\"1\" class=\"dataframe\">\n",
       "  <thead>\n",
       "    <tr style=\"text-align: right;\">\n",
       "      <th></th>\n",
       "      <th>term_div</th>\n",
       "      <th>Charged off %</th>\n",
       "    </tr>\n",
       "  </thead>\n",
       "  <tbody>\n",
       "    <tr>\n",
       "      <th>0</th>\n",
       "      <td>60 months</td>\n",
       "      <td>0.253138</td>\n",
       "    </tr>\n",
       "    <tr>\n",
       "      <th>1</th>\n",
       "      <td>36 months</td>\n",
       "      <td>0.110909</td>\n",
       "    </tr>\n",
       "  </tbody>\n",
       "</table>\n",
       "</div>"
      ],
      "text/plain": [
       "     term_div  Charged off %\n",
       "0   60 months       0.253138\n",
       "1   36 months       0.110909"
      ]
     },
     "execution_count": 61,
     "metadata": {},
     "output_type": "execute_result"
    }
   ],
   "source": [
    "univariateSegementedAnalysis(column='term')"
   ]
  },
  {
   "cell_type": "markdown",
   "id": "a1b2f450",
   "metadata": {},
   "source": [
    "Conclusion: For 5 year term , default rate is 25 % .So it implies for higher payment term higher chances of default.  "
   ]
  },
  {
   "cell_type": "code",
   "execution_count": 62,
   "id": "197363b9",
   "metadata": {},
   "outputs": [
    {
     "data": {
      "text/html": [
       "<div>\n",
       "<style scoped>\n",
       "    .dataframe tbody tr th:only-of-type {\n",
       "        vertical-align: middle;\n",
       "    }\n",
       "\n",
       "    .dataframe tbody tr th {\n",
       "        vertical-align: top;\n",
       "    }\n",
       "\n",
       "    .dataframe thead th {\n",
       "        text-align: right;\n",
       "    }\n",
       "</style>\n",
       "<table border=\"1\" class=\"dataframe\">\n",
       "  <thead>\n",
       "    <tr style=\"text-align: right;\">\n",
       "      <th></th>\n",
       "      <th>int_rate_percentile</th>\n",
       "      <th>Charged off %</th>\n",
       "    </tr>\n",
       "  </thead>\n",
       "  <tbody>\n",
       "    <tr>\n",
       "      <th>0</th>\n",
       "      <td>Highest</td>\n",
       "      <td>0.262150</td>\n",
       "    </tr>\n",
       "    <tr>\n",
       "      <th>1</th>\n",
       "      <td>Higher</td>\n",
       "      <td>0.171619</td>\n",
       "    </tr>\n",
       "    <tr>\n",
       "      <th>2</th>\n",
       "      <td>Medium</td>\n",
       "      <td>0.146995</td>\n",
       "    </tr>\n",
       "    <tr>\n",
       "      <th>3</th>\n",
       "      <td>Lower</td>\n",
       "      <td>0.102876</td>\n",
       "    </tr>\n",
       "    <tr>\n",
       "      <th>4</th>\n",
       "      <td>Lowest</td>\n",
       "      <td>0.053538</td>\n",
       "    </tr>\n",
       "  </tbody>\n",
       "</table>\n",
       "</div>"
      ],
      "text/plain": [
       "  int_rate_percentile  Charged off %\n",
       "0             Highest       0.262150\n",
       "1              Higher       0.171619\n",
       "2              Medium       0.146995\n",
       "3               Lower       0.102876\n",
       "4              Lowest       0.053538"
      ]
     },
     "execution_count": 62,
     "metadata": {},
     "output_type": "execute_result"
    }
   ],
   "source": [
    "univariateSegementedAnalysis(column='int_rate')"
   ]
  },
  {
   "cell_type": "markdown",
   "id": "a956a4bc",
   "metadata": {},
   "source": [
    "Conclusion: Higher the interest rate higher is charged off percentage"
   ]
  },
  {
   "cell_type": "code",
   "execution_count": 63,
   "id": "45e99bfc",
   "metadata": {},
   "outputs": [
    {
     "data": {
      "text/html": [
       "<div>\n",
       "<style scoped>\n",
       "    .dataframe tbody tr th:only-of-type {\n",
       "        vertical-align: middle;\n",
       "    }\n",
       "\n",
       "    .dataframe tbody tr th {\n",
       "        vertical-align: top;\n",
       "    }\n",
       "\n",
       "    .dataframe thead th {\n",
       "        text-align: right;\n",
       "    }\n",
       "</style>\n",
       "<table border=\"1\" class=\"dataframe\">\n",
       "  <thead>\n",
       "    <tr style=\"text-align: right;\">\n",
       "      <th></th>\n",
       "      <th>installment_percentile</th>\n",
       "      <th>Charged off %</th>\n",
       "    </tr>\n",
       "  </thead>\n",
       "  <tbody>\n",
       "    <tr>\n",
       "      <th>0</th>\n",
       "      <td>Highest</td>\n",
       "      <td>0.166321</td>\n",
       "    </tr>\n",
       "    <tr>\n",
       "      <th>1</th>\n",
       "      <td>Higher</td>\n",
       "      <td>0.152988</td>\n",
       "    </tr>\n",
       "    <tr>\n",
       "      <th>2</th>\n",
       "      <td>Lowest</td>\n",
       "      <td>0.145153</td>\n",
       "    </tr>\n",
       "    <tr>\n",
       "      <th>3</th>\n",
       "      <td>Medium</td>\n",
       "      <td>0.132936</td>\n",
       "    </tr>\n",
       "    <tr>\n",
       "      <th>4</th>\n",
       "      <td>Lower</td>\n",
       "      <td>0.131934</td>\n",
       "    </tr>\n",
       "  </tbody>\n",
       "</table>\n",
       "</div>"
      ],
      "text/plain": [
       "  installment_percentile  Charged off %\n",
       "0                Highest       0.166321\n",
       "1                 Higher       0.152988\n",
       "2                 Lowest       0.145153\n",
       "3                 Medium       0.132936\n",
       "4                  Lower       0.131934"
      ]
     },
     "execution_count": 63,
     "metadata": {},
     "output_type": "execute_result"
    }
   ],
   "source": [
    "univariateSegementedAnalysis(column='installment')"
   ]
  },
  {
   "cell_type": "markdown",
   "id": "3264e3ce",
   "metadata": {},
   "source": [
    "Conclusion: Higher installment amount higher is charged off percentage"
   ]
  },
  {
   "cell_type": "code",
   "execution_count": 64,
   "id": "7712db8e",
   "metadata": {},
   "outputs": [
    {
     "data": {
      "text/html": [
       "<div>\n",
       "<style scoped>\n",
       "    .dataframe tbody tr th:only-of-type {\n",
       "        vertical-align: middle;\n",
       "    }\n",
       "\n",
       "    .dataframe tbody tr th {\n",
       "        vertical-align: top;\n",
       "    }\n",
       "\n",
       "    .dataframe thead th {\n",
       "        text-align: right;\n",
       "    }\n",
       "</style>\n",
       "<table border=\"1\" class=\"dataframe\">\n",
       "  <thead>\n",
       "    <tr style=\"text-align: right;\">\n",
       "      <th></th>\n",
       "      <th>grade_div</th>\n",
       "      <th>Charged off %</th>\n",
       "    </tr>\n",
       "  </thead>\n",
       "  <tbody>\n",
       "    <tr>\n",
       "      <th>0</th>\n",
       "      <td>G</td>\n",
       "      <td>0.337793</td>\n",
       "    </tr>\n",
       "    <tr>\n",
       "      <th>1</th>\n",
       "      <td>F</td>\n",
       "      <td>0.326844</td>\n",
       "    </tr>\n",
       "    <tr>\n",
       "      <th>2</th>\n",
       "      <td>E</td>\n",
       "      <td>0.268494</td>\n",
       "    </tr>\n",
       "    <tr>\n",
       "      <th>3</th>\n",
       "      <td>D</td>\n",
       "      <td>0.219862</td>\n",
       "    </tr>\n",
       "    <tr>\n",
       "      <th>4</th>\n",
       "      <td>C</td>\n",
       "      <td>0.171943</td>\n",
       "    </tr>\n",
       "    <tr>\n",
       "      <th>5</th>\n",
       "      <td>B</td>\n",
       "      <td>0.122056</td>\n",
       "    </tr>\n",
       "    <tr>\n",
       "      <th>6</th>\n",
       "      <td>A</td>\n",
       "      <td>0.059930</td>\n",
       "    </tr>\n",
       "  </tbody>\n",
       "</table>\n",
       "</div>"
      ],
      "text/plain": [
       "  grade_div  Charged off %\n",
       "0         G       0.337793\n",
       "1         F       0.326844\n",
       "2         E       0.268494\n",
       "3         D       0.219862\n",
       "4         C       0.171943\n",
       "5         B       0.122056\n",
       "6         A       0.059930"
      ]
     },
     "execution_count": 64,
     "metadata": {},
     "output_type": "execute_result"
    }
   ],
   "source": [
    "univariateSegementedAnalysis(column='grade')"
   ]
  },
  {
   "cell_type": "markdown",
   "id": "2249eb74",
   "metadata": {},
   "source": [
    "Grades G,F,E have higher default rate."
   ]
  },
  {
   "cell_type": "code",
   "execution_count": 65,
   "id": "f5f859c9",
   "metadata": {},
   "outputs": [
    {
     "data": {
      "text/html": [
       "<div>\n",
       "<style scoped>\n",
       "    .dataframe tbody tr th:only-of-type {\n",
       "        vertical-align: middle;\n",
       "    }\n",
       "\n",
       "    .dataframe tbody tr th {\n",
       "        vertical-align: top;\n",
       "    }\n",
       "\n",
       "    .dataframe thead th {\n",
       "        text-align: right;\n",
       "    }\n",
       "</style>\n",
       "<table border=\"1\" class=\"dataframe\">\n",
       "  <thead>\n",
       "    <tr style=\"text-align: right;\">\n",
       "      <th></th>\n",
       "      <th>sub_grade_div</th>\n",
       "      <th>Charged off %</th>\n",
       "    </tr>\n",
       "  </thead>\n",
       "  <tbody>\n",
       "    <tr>\n",
       "      <th>0</th>\n",
       "      <td>F5</td>\n",
       "      <td>0.477876</td>\n",
       "    </tr>\n",
       "    <tr>\n",
       "      <th>1</th>\n",
       "      <td>G3</td>\n",
       "      <td>0.422222</td>\n",
       "    </tr>\n",
       "    <tr>\n",
       "      <th>2</th>\n",
       "      <td>G2</td>\n",
       "      <td>0.363636</td>\n",
       "    </tr>\n",
       "    <tr>\n",
       "      <th>3</th>\n",
       "      <td>F4</td>\n",
       "      <td>0.350993</td>\n",
       "    </tr>\n",
       "    <tr>\n",
       "      <th>4</th>\n",
       "      <td>G5</td>\n",
       "      <td>0.344828</td>\n",
       "    </tr>\n",
       "    <tr>\n",
       "      <th>5</th>\n",
       "      <td>G1</td>\n",
       "      <td>0.329787</td>\n",
       "    </tr>\n",
       "    <tr>\n",
       "      <th>6</th>\n",
       "      <td>F2</td>\n",
       "      <td>0.300429</td>\n",
       "    </tr>\n",
       "    <tr>\n",
       "      <th>7</th>\n",
       "      <td>F1</td>\n",
       "      <td>0.298361</td>\n",
       "    </tr>\n",
       "    <tr>\n",
       "      <th>8</th>\n",
       "      <td>E4</td>\n",
       "      <td>0.297170</td>\n",
       "    </tr>\n",
       "    <tr>\n",
       "      <th>9</th>\n",
       "      <td>F3</td>\n",
       "      <td>0.293103</td>\n",
       "    </tr>\n",
       "    <tr>\n",
       "      <th>10</th>\n",
       "      <td>E5</td>\n",
       "      <td>0.281654</td>\n",
       "    </tr>\n",
       "    <tr>\n",
       "      <th>11</th>\n",
       "      <td>E1</td>\n",
       "      <td>0.274238</td>\n",
       "    </tr>\n",
       "    <tr>\n",
       "      <th>12</th>\n",
       "      <td>E2</td>\n",
       "      <td>0.265472</td>\n",
       "    </tr>\n",
       "    <tr>\n",
       "      <th>13</th>\n",
       "      <td>D5</td>\n",
       "      <td>0.250600</td>\n",
       "    </tr>\n",
       "    <tr>\n",
       "      <th>14</th>\n",
       "      <td>G4</td>\n",
       "      <td>0.240741</td>\n",
       "    </tr>\n",
       "    <tr>\n",
       "      <th>15</th>\n",
       "      <td>D4</td>\n",
       "      <td>0.234205</td>\n",
       "    </tr>\n",
       "    <tr>\n",
       "      <th>16</th>\n",
       "      <td>E3</td>\n",
       "      <td>0.230620</td>\n",
       "    </tr>\n",
       "    <tr>\n",
       "      <th>17</th>\n",
       "      <td>D3</td>\n",
       "      <td>0.229391</td>\n",
       "    </tr>\n",
       "    <tr>\n",
       "      <th>18</th>\n",
       "      <td>D2</td>\n",
       "      <td>0.210731</td>\n",
       "    </tr>\n",
       "    <tr>\n",
       "      <th>19</th>\n",
       "      <td>C3</td>\n",
       "      <td>0.181452</td>\n",
       "    </tr>\n",
       "    <tr>\n",
       "      <th>20</th>\n",
       "      <td>C5</td>\n",
       "      <td>0.180243</td>\n",
       "    </tr>\n",
       "    <tr>\n",
       "      <th>21</th>\n",
       "      <td>D1</td>\n",
       "      <td>0.179377</td>\n",
       "    </tr>\n",
       "    <tr>\n",
       "      <th>22</th>\n",
       "      <td>C4</td>\n",
       "      <td>0.175788</td>\n",
       "    </tr>\n",
       "    <tr>\n",
       "      <th>23</th>\n",
       "      <td>C2</td>\n",
       "      <td>0.166235</td>\n",
       "    </tr>\n",
       "    <tr>\n",
       "      <th>24</th>\n",
       "      <td>C1</td>\n",
       "      <td>0.163504</td>\n",
       "    </tr>\n",
       "    <tr>\n",
       "      <th>25</th>\n",
       "      <td>B5</td>\n",
       "      <td>0.136138</td>\n",
       "    </tr>\n",
       "    <tr>\n",
       "      <th>26</th>\n",
       "      <td>B4</td>\n",
       "      <td>0.135002</td>\n",
       "    </tr>\n",
       "    <tr>\n",
       "      <th>27</th>\n",
       "      <td>B3</td>\n",
       "      <td>0.120708</td>\n",
       "    </tr>\n",
       "    <tr>\n",
       "      <th>28</th>\n",
       "      <td>B2</td>\n",
       "      <td>0.113943</td>\n",
       "    </tr>\n",
       "    <tr>\n",
       "      <th>29</th>\n",
       "      <td>B1</td>\n",
       "      <td>0.095159</td>\n",
       "    </tr>\n",
       "    <tr>\n",
       "      <th>30</th>\n",
       "      <td>A5</td>\n",
       "      <td>0.079926</td>\n",
       "    </tr>\n",
       "    <tr>\n",
       "      <th>31</th>\n",
       "      <td>A4</td>\n",
       "      <td>0.061956</td>\n",
       "    </tr>\n",
       "    <tr>\n",
       "      <th>32</th>\n",
       "      <td>A3</td>\n",
       "      <td>0.056906</td>\n",
       "    </tr>\n",
       "    <tr>\n",
       "      <th>33</th>\n",
       "      <td>A2</td>\n",
       "      <td>0.049072</td>\n",
       "    </tr>\n",
       "    <tr>\n",
       "      <th>34</th>\n",
       "      <td>A1</td>\n",
       "      <td>0.026339</td>\n",
       "    </tr>\n",
       "  </tbody>\n",
       "</table>\n",
       "</div>"
      ],
      "text/plain": [
       "   sub_grade_div  Charged off %\n",
       "0             F5       0.477876\n",
       "1             G3       0.422222\n",
       "2             G2       0.363636\n",
       "3             F4       0.350993\n",
       "4             G5       0.344828\n",
       "5             G1       0.329787\n",
       "6             F2       0.300429\n",
       "7             F1       0.298361\n",
       "8             E4       0.297170\n",
       "9             F3       0.293103\n",
       "10            E5       0.281654\n",
       "11            E1       0.274238\n",
       "12            E2       0.265472\n",
       "13            D5       0.250600\n",
       "14            G4       0.240741\n",
       "15            D4       0.234205\n",
       "16            E3       0.230620\n",
       "17            D3       0.229391\n",
       "18            D2       0.210731\n",
       "19            C3       0.181452\n",
       "20            C5       0.180243\n",
       "21            D1       0.179377\n",
       "22            C4       0.175788\n",
       "23            C2       0.166235\n",
       "24            C1       0.163504\n",
       "25            B5       0.136138\n",
       "26            B4       0.135002\n",
       "27            B3       0.120708\n",
       "28            B2       0.113943\n",
       "29            B1       0.095159\n",
       "30            A5       0.079926\n",
       "31            A4       0.061956\n",
       "32            A3       0.056906\n",
       "33            A2       0.049072\n",
       "34            A1       0.026339"
      ]
     },
     "execution_count": 65,
     "metadata": {},
     "output_type": "execute_result"
    }
   ],
   "source": [
    "univariateSegementedAnalysis(column='sub_grade')"
   ]
  },
  {
   "cell_type": "markdown",
   "id": "94ee7fd3",
   "metadata": {},
   "source": [
    "Sub Grades F5 and G3 have above 40% charged off rate."
   ]
  },
  {
   "cell_type": "code",
   "execution_count": 66,
   "id": "6e4d17fa",
   "metadata": {},
   "outputs": [
    {
     "data": {
      "text/html": [
       "<div>\n",
       "<style scoped>\n",
       "    .dataframe tbody tr th:only-of-type {\n",
       "        vertical-align: middle;\n",
       "    }\n",
       "\n",
       "    .dataframe tbody tr th {\n",
       "        vertical-align: top;\n",
       "    }\n",
       "\n",
       "    .dataframe thead th {\n",
       "        text-align: right;\n",
       "    }\n",
       "</style>\n",
       "<table border=\"1\" class=\"dataframe\">\n",
       "  <thead>\n",
       "    <tr style=\"text-align: right;\">\n",
       "      <th></th>\n",
       "      <th>annual_inc_percentile</th>\n",
       "      <th>Charged off %</th>\n",
       "    </tr>\n",
       "  </thead>\n",
       "  <tbody>\n",
       "    <tr>\n",
       "      <th>0</th>\n",
       "      <td>Lowest</td>\n",
       "      <td>0.183126</td>\n",
       "    </tr>\n",
       "    <tr>\n",
       "      <th>1</th>\n",
       "      <td>Lower</td>\n",
       "      <td>0.156926</td>\n",
       "    </tr>\n",
       "    <tr>\n",
       "      <th>2</th>\n",
       "      <td>Medium</td>\n",
       "      <td>0.149629</td>\n",
       "    </tr>\n",
       "    <tr>\n",
       "      <th>3</th>\n",
       "      <td>Higher</td>\n",
       "      <td>0.129651</td>\n",
       "    </tr>\n",
       "    <tr>\n",
       "      <th>4</th>\n",
       "      <td>Highest</td>\n",
       "      <td>0.109285</td>\n",
       "    </tr>\n",
       "  </tbody>\n",
       "</table>\n",
       "</div>"
      ],
      "text/plain": [
       "  annual_inc_percentile  Charged off %\n",
       "0                Lowest       0.183126\n",
       "1                 Lower       0.156926\n",
       "2                Medium       0.149629\n",
       "3                Higher       0.129651\n",
       "4               Highest       0.109285"
      ]
     },
     "execution_count": 66,
     "metadata": {},
     "output_type": "execute_result"
    }
   ],
   "source": [
    "univariateSegementedAnalysis(column='annual_inc')"
   ]
  },
  {
   "cell_type": "markdown",
   "id": "e620df15",
   "metadata": {},
   "source": [
    "Conclusion: Higher Anuual Income lower is the charged off%"
   ]
  },
  {
   "cell_type": "code",
   "execution_count": 67,
   "id": "0439d197",
   "metadata": {},
   "outputs": [
    {
     "data": {
      "text/html": [
       "<div>\n",
       "<style scoped>\n",
       "    .dataframe tbody tr th:only-of-type {\n",
       "        vertical-align: middle;\n",
       "    }\n",
       "\n",
       "    .dataframe tbody tr th {\n",
       "        vertical-align: top;\n",
       "    }\n",
       "\n",
       "    .dataframe thead th {\n",
       "        text-align: right;\n",
       "    }\n",
       "</style>\n",
       "<table border=\"1\" class=\"dataframe\">\n",
       "  <thead>\n",
       "    <tr style=\"text-align: right;\">\n",
       "      <th></th>\n",
       "      <th>dti_percentile</th>\n",
       "      <th>Charged off %</th>\n",
       "    </tr>\n",
       "  </thead>\n",
       "  <tbody>\n",
       "    <tr>\n",
       "      <th>0</th>\n",
       "      <td>Highest</td>\n",
       "      <td>0.168853</td>\n",
       "    </tr>\n",
       "    <tr>\n",
       "      <th>1</th>\n",
       "      <td>Higher</td>\n",
       "      <td>0.157908</td>\n",
       "    </tr>\n",
       "    <tr>\n",
       "      <th>2</th>\n",
       "      <td>Medium</td>\n",
       "      <td>0.147609</td>\n",
       "    </tr>\n",
       "    <tr>\n",
       "      <th>3</th>\n",
       "      <td>Lower</td>\n",
       "      <td>0.132627</td>\n",
       "    </tr>\n",
       "    <tr>\n",
       "      <th>4</th>\n",
       "      <td>Lowest</td>\n",
       "      <td>0.122409</td>\n",
       "    </tr>\n",
       "  </tbody>\n",
       "</table>\n",
       "</div>"
      ],
      "text/plain": [
       "  dti_percentile  Charged off %\n",
       "0        Highest       0.168853\n",
       "1         Higher       0.157908\n",
       "2         Medium       0.147609\n",
       "3          Lower       0.132627\n",
       "4         Lowest       0.122409"
      ]
     },
     "execution_count": 67,
     "metadata": {},
     "output_type": "execute_result"
    }
   ],
   "source": [
    "univariateSegementedAnalysis(column='dti')"
   ]
  },
  {
   "cell_type": "markdown",
   "id": "a7c1336c",
   "metadata": {},
   "source": [
    "Higher debt to income ratio higher is the charged off%"
   ]
  },
  {
   "cell_type": "code",
   "execution_count": 68,
   "id": "cea7cd97",
   "metadata": {},
   "outputs": [
    {
     "data": {
      "text/html": [
       "<div>\n",
       "<style scoped>\n",
       "    .dataframe tbody tr th:only-of-type {\n",
       "        vertical-align: middle;\n",
       "    }\n",
       "\n",
       "    .dataframe tbody tr th {\n",
       "        vertical-align: top;\n",
       "    }\n",
       "\n",
       "    .dataframe thead th {\n",
       "        text-align: right;\n",
       "    }\n",
       "</style>\n",
       "<table border=\"1\" class=\"dataframe\">\n",
       "  <thead>\n",
       "    <tr style=\"text-align: right;\">\n",
       "      <th></th>\n",
       "      <th>emp_length_div</th>\n",
       "      <th>Charged off %</th>\n",
       "    </tr>\n",
       "  </thead>\n",
       "  <tbody>\n",
       "    <tr>\n",
       "      <th>0</th>\n",
       "      <td>10+ years</td>\n",
       "      <td>0.156810</td>\n",
       "    </tr>\n",
       "    <tr>\n",
       "      <th>1</th>\n",
       "      <td>7 years</td>\n",
       "      <td>0.153711</td>\n",
       "    </tr>\n",
       "    <tr>\n",
       "      <th>2</th>\n",
       "      <td>1 year</td>\n",
       "      <td>0.143894</td>\n",
       "    </tr>\n",
       "    <tr>\n",
       "      <th>3</th>\n",
       "      <td>5 years</td>\n",
       "      <td>0.143394</td>\n",
       "    </tr>\n",
       "    <tr>\n",
       "      <th>4</th>\n",
       "      <td>&lt; 1 year</td>\n",
       "      <td>0.141748</td>\n",
       "    </tr>\n",
       "    <tr>\n",
       "      <th>5</th>\n",
       "      <td>6 years</td>\n",
       "      <td>0.141605</td>\n",
       "    </tr>\n",
       "    <tr>\n",
       "      <th>6</th>\n",
       "      <td>8 years</td>\n",
       "      <td>0.141463</td>\n",
       "    </tr>\n",
       "    <tr>\n",
       "      <th>7</th>\n",
       "      <td>3 years</td>\n",
       "      <td>0.138335</td>\n",
       "    </tr>\n",
       "    <tr>\n",
       "      <th>8</th>\n",
       "      <td>4 years</td>\n",
       "      <td>0.138241</td>\n",
       "    </tr>\n",
       "    <tr>\n",
       "      <th>9</th>\n",
       "      <td>2 years</td>\n",
       "      <td>0.132137</td>\n",
       "    </tr>\n",
       "    <tr>\n",
       "      <th>10</th>\n",
       "      <td>9 years</td>\n",
       "      <td>0.128874</td>\n",
       "    </tr>\n",
       "  </tbody>\n",
       "</table>\n",
       "</div>"
      ],
      "text/plain": [
       "   emp_length_div  Charged off %\n",
       "0       10+ years       0.156810\n",
       "1         7 years       0.153711\n",
       "2          1 year       0.143894\n",
       "3         5 years       0.143394\n",
       "4        < 1 year       0.141748\n",
       "5         6 years       0.141605\n",
       "6         8 years       0.141463\n",
       "7         3 years       0.138335\n",
       "8         4 years       0.138241\n",
       "9         2 years       0.132137\n",
       "10        9 years       0.128874"
      ]
     },
     "execution_count": 68,
     "metadata": {},
     "output_type": "execute_result"
    }
   ],
   "source": [
    "univariateSegementedAnalysis(column='emp_length')"
   ]
  },
  {
   "cell_type": "code",
   "execution_count": 69,
   "id": "1f783175",
   "metadata": {},
   "outputs": [
    {
     "data": {
      "text/html": [
       "<div>\n",
       "<style scoped>\n",
       "    .dataframe tbody tr th:only-of-type {\n",
       "        vertical-align: middle;\n",
       "    }\n",
       "\n",
       "    .dataframe tbody tr th {\n",
       "        vertical-align: top;\n",
       "    }\n",
       "\n",
       "    .dataframe thead th {\n",
       "        text-align: right;\n",
       "    }\n",
       "</style>\n",
       "<table border=\"1\" class=\"dataframe\">\n",
       "  <thead>\n",
       "    <tr style=\"text-align: right;\">\n",
       "      <th></th>\n",
       "      <th>home_ownership_div</th>\n",
       "      <th>Charged off %</th>\n",
       "    </tr>\n",
       "  </thead>\n",
       "  <tbody>\n",
       "    <tr>\n",
       "      <th>0</th>\n",
       "      <td>OTHER</td>\n",
       "      <td>0.183673</td>\n",
       "    </tr>\n",
       "    <tr>\n",
       "      <th>1</th>\n",
       "      <td>RENT</td>\n",
       "      <td>0.153626</td>\n",
       "    </tr>\n",
       "    <tr>\n",
       "      <th>2</th>\n",
       "      <td>OWN</td>\n",
       "      <td>0.148908</td>\n",
       "    </tr>\n",
       "    <tr>\n",
       "      <th>3</th>\n",
       "      <td>MORTGAGE</td>\n",
       "      <td>0.136713</td>\n",
       "    </tr>\n",
       "  </tbody>\n",
       "</table>\n",
       "</div>"
      ],
      "text/plain": [
       "  home_ownership_div  Charged off %\n",
       "0              OTHER       0.183673\n",
       "1               RENT       0.153626\n",
       "2                OWN       0.148908\n",
       "3           MORTGAGE       0.136713"
      ]
     },
     "execution_count": 69,
     "metadata": {},
     "output_type": "execute_result"
    }
   ],
   "source": [
    "univariateSegementedAnalysis(column='home_ownership')"
   ]
  },
  {
   "cell_type": "markdown",
   "id": "aab2925d",
   "metadata": {},
   "source": [
    "Not much information can be derived from emp_length,home_ownership "
   ]
  },
  {
   "cell_type": "code",
   "execution_count": 70,
   "id": "9479824f",
   "metadata": {},
   "outputs": [
    {
     "data": {
      "text/html": [
       "<div>\n",
       "<style scoped>\n",
       "    .dataframe tbody tr th:only-of-type {\n",
       "        vertical-align: middle;\n",
       "    }\n",
       "\n",
       "    .dataframe tbody tr th {\n",
       "        vertical-align: top;\n",
       "    }\n",
       "\n",
       "    .dataframe thead th {\n",
       "        text-align: right;\n",
       "    }\n",
       "</style>\n",
       "<table border=\"1\" class=\"dataframe\">\n",
       "  <thead>\n",
       "    <tr style=\"text-align: right;\">\n",
       "      <th></th>\n",
       "      <th>verification_status_div</th>\n",
       "      <th>Charged off %</th>\n",
       "    </tr>\n",
       "  </thead>\n",
       "  <tbody>\n",
       "    <tr>\n",
       "      <th>0</th>\n",
       "      <td>Verified</td>\n",
       "      <td>0.168032</td>\n",
       "    </tr>\n",
       "    <tr>\n",
       "      <th>1</th>\n",
       "      <td>Source Verified</td>\n",
       "      <td>0.148186</td>\n",
       "    </tr>\n",
       "    <tr>\n",
       "      <th>2</th>\n",
       "      <td>Not Verified</td>\n",
       "      <td>0.128310</td>\n",
       "    </tr>\n",
       "  </tbody>\n",
       "</table>\n",
       "</div>"
      ],
      "text/plain": [
       "  verification_status_div  Charged off %\n",
       "0                Verified       0.168032\n",
       "1         Source Verified       0.148186\n",
       "2            Not Verified       0.128310"
      ]
     },
     "execution_count": 70,
     "metadata": {},
     "output_type": "execute_result"
    }
   ],
   "source": [
    "univariateSegementedAnalysis(column='verification_status')"
   ]
  },
  {
   "cell_type": "markdown",
   "id": "0bea2168",
   "metadata": {},
   "source": [
    "Verified customers have more charged off rate than not verified"
   ]
  },
  {
   "cell_type": "code",
   "execution_count": 71,
   "id": "41540b50",
   "metadata": {},
   "outputs": [
    {
     "data": {
      "text/html": [
       "<div>\n",
       "<style scoped>\n",
       "    .dataframe tbody tr th:only-of-type {\n",
       "        vertical-align: middle;\n",
       "    }\n",
       "\n",
       "    .dataframe tbody tr th {\n",
       "        vertical-align: top;\n",
       "    }\n",
       "\n",
       "    .dataframe thead th {\n",
       "        text-align: right;\n",
       "    }\n",
       "</style>\n",
       "<table border=\"1\" class=\"dataframe\">\n",
       "  <thead>\n",
       "    <tr style=\"text-align: right;\">\n",
       "      <th></th>\n",
       "      <th>purpose_div</th>\n",
       "      <th>Charged off %</th>\n",
       "    </tr>\n",
       "  </thead>\n",
       "  <tbody>\n",
       "    <tr>\n",
       "      <th>0</th>\n",
       "      <td>small_business</td>\n",
       "      <td>0.270810</td>\n",
       "    </tr>\n",
       "    <tr>\n",
       "      <th>1</th>\n",
       "      <td>renewable_energy</td>\n",
       "      <td>0.186275</td>\n",
       "    </tr>\n",
       "    <tr>\n",
       "      <th>2</th>\n",
       "      <td>educational</td>\n",
       "      <td>0.172308</td>\n",
       "    </tr>\n",
       "    <tr>\n",
       "      <th>3</th>\n",
       "      <td>other</td>\n",
       "      <td>0.163777</td>\n",
       "    </tr>\n",
       "    <tr>\n",
       "      <th>4</th>\n",
       "      <td>house</td>\n",
       "      <td>0.160763</td>\n",
       "    </tr>\n",
       "    <tr>\n",
       "      <th>5</th>\n",
       "      <td>moving</td>\n",
       "      <td>0.159722</td>\n",
       "    </tr>\n",
       "    <tr>\n",
       "      <th>6</th>\n",
       "      <td>medical</td>\n",
       "      <td>0.155653</td>\n",
       "    </tr>\n",
       "    <tr>\n",
       "      <th>7</th>\n",
       "      <td>debt_consolidation</td>\n",
       "      <td>0.153254</td>\n",
       "    </tr>\n",
       "    <tr>\n",
       "      <th>8</th>\n",
       "      <td>vacation</td>\n",
       "      <td>0.141333</td>\n",
       "    </tr>\n",
       "    <tr>\n",
       "      <th>9</th>\n",
       "      <td>home_improvement</td>\n",
       "      <td>0.120696</td>\n",
       "    </tr>\n",
       "    <tr>\n",
       "      <th>10</th>\n",
       "      <td>credit_card</td>\n",
       "      <td>0.107818</td>\n",
       "    </tr>\n",
       "    <tr>\n",
       "      <th>11</th>\n",
       "      <td>car</td>\n",
       "      <td>0.106738</td>\n",
       "    </tr>\n",
       "    <tr>\n",
       "      <th>12</th>\n",
       "      <td>wedding</td>\n",
       "      <td>0.103672</td>\n",
       "    </tr>\n",
       "    <tr>\n",
       "      <th>13</th>\n",
       "      <td>major_purchase</td>\n",
       "      <td>0.103256</td>\n",
       "    </tr>\n",
       "  </tbody>\n",
       "</table>\n",
       "</div>"
      ],
      "text/plain": [
       "           purpose_div  Charged off %\n",
       "0       small_business       0.270810\n",
       "1     renewable_energy       0.186275\n",
       "2          educational       0.172308\n",
       "3                other       0.163777\n",
       "4                house       0.160763\n",
       "5               moving       0.159722\n",
       "6              medical       0.155653\n",
       "7   debt_consolidation       0.153254\n",
       "8             vacation       0.141333\n",
       "9     home_improvement       0.120696\n",
       "10         credit_card       0.107818\n",
       "11                 car       0.106738\n",
       "12             wedding       0.103672\n",
       "13      major_purchase       0.103256"
      ]
     },
     "execution_count": 71,
     "metadata": {},
     "output_type": "execute_result"
    }
   ],
   "source": [
    "univariateSegementedAnalysis(column='purpose')"
   ]
  },
  {
   "cell_type": "markdown",
   "id": "b6d7e80e",
   "metadata": {},
   "source": [
    "Loan taken for  small_business,renewable_energy and educational have chanes of getting defaulted."
   ]
  },
  {
   "cell_type": "code",
   "execution_count": 72,
   "id": "6ac0b11f",
   "metadata": {},
   "outputs": [
    {
     "data": {
      "text/html": [
       "<div>\n",
       "<style scoped>\n",
       "    .dataframe tbody tr th:only-of-type {\n",
       "        vertical-align: middle;\n",
       "    }\n",
       "\n",
       "    .dataframe tbody tr th {\n",
       "        vertical-align: top;\n",
       "    }\n",
       "\n",
       "    .dataframe thead th {\n",
       "        text-align: right;\n",
       "    }\n",
       "</style>\n",
       "<table border=\"1\" class=\"dataframe\">\n",
       "  <thead>\n",
       "    <tr style=\"text-align: right;\">\n",
       "      <th></th>\n",
       "      <th>pub_rec_div</th>\n",
       "      <th>Charged off %</th>\n",
       "    </tr>\n",
       "  </thead>\n",
       "  <tbody>\n",
       "    <tr>\n",
       "      <th>0</th>\n",
       "      <td>1</td>\n",
       "      <td>0.227024</td>\n",
       "    </tr>\n",
       "    <tr>\n",
       "      <th>1</th>\n",
       "      <td>2</td>\n",
       "      <td>0.208333</td>\n",
       "    </tr>\n",
       "    <tr>\n",
       "      <th>2</th>\n",
       "      <td>0</td>\n",
       "      <td>0.141343</td>\n",
       "    </tr>\n",
       "  </tbody>\n",
       "</table>\n",
       "</div>"
      ],
      "text/plain": [
       "   pub_rec_div  Charged off %\n",
       "0            1       0.227024\n",
       "1            2       0.208333\n",
       "2            0       0.141343"
      ]
     },
     "execution_count": 72,
     "metadata": {},
     "output_type": "execute_result"
    }
   ],
   "source": [
    "univariateSegementedAnalysis(column='pub_rec')"
   ]
  },
  {
   "cell_type": "markdown",
   "id": "41152148",
   "metadata": {},
   "source": [
    "Applicants with non zero derogatory public records have higher charged off rate"
   ]
  },
  {
   "cell_type": "code",
   "execution_count": 73,
   "id": "c0c7dad1",
   "metadata": {},
   "outputs": [
    {
     "data": {
      "text/html": [
       "<div>\n",
       "<style scoped>\n",
       "    .dataframe tbody tr th:only-of-type {\n",
       "        vertical-align: middle;\n",
       "    }\n",
       "\n",
       "    .dataframe tbody tr th {\n",
       "        vertical-align: top;\n",
       "    }\n",
       "\n",
       "    .dataframe thead th {\n",
       "        text-align: right;\n",
       "    }\n",
       "</style>\n",
       "<table border=\"1\" class=\"dataframe\">\n",
       "  <thead>\n",
       "    <tr style=\"text-align: right;\">\n",
       "      <th></th>\n",
       "      <th>pub_rec_bankruptcies_div</th>\n",
       "      <th>Charged off %</th>\n",
       "    </tr>\n",
       "  </thead>\n",
       "  <tbody>\n",
       "    <tr>\n",
       "      <th>0</th>\n",
       "      <td>2.0</td>\n",
       "      <td>0.400000</td>\n",
       "    </tr>\n",
       "    <tr>\n",
       "      <th>1</th>\n",
       "      <td>1.0</td>\n",
       "      <td>0.223580</td>\n",
       "    </tr>\n",
       "    <tr>\n",
       "      <th>2</th>\n",
       "      <td>0.0</td>\n",
       "      <td>0.141868</td>\n",
       "    </tr>\n",
       "  </tbody>\n",
       "</table>\n",
       "</div>"
      ],
      "text/plain": [
       "   pub_rec_bankruptcies_div  Charged off %\n",
       "0                       2.0       0.400000\n",
       "1                       1.0       0.223580\n",
       "2                       0.0       0.141868"
      ]
     },
     "execution_count": 73,
     "metadata": {},
     "output_type": "execute_result"
    }
   ],
   "source": [
    "univariateSegementedAnalysis(column='pub_rec_bankruptcies')"
   ]
  },
  {
   "cell_type": "markdown",
   "id": "5f4939ec",
   "metadata": {},
   "source": [
    "Applicants Having higher bankruptcy records have hihger charged off rate "
   ]
  },
  {
   "cell_type": "code",
   "execution_count": 74,
   "id": "9dff449a",
   "metadata": {},
   "outputs": [
    {
     "data": {
      "text/html": [
       "<div>\n",
       "<style scoped>\n",
       "    .dataframe tbody tr th:only-of-type {\n",
       "        vertical-align: middle;\n",
       "    }\n",
       "\n",
       "    .dataframe tbody tr th {\n",
       "        vertical-align: top;\n",
       "    }\n",
       "\n",
       "    .dataframe thead th {\n",
       "        text-align: right;\n",
       "    }\n",
       "</style>\n",
       "<table border=\"1\" class=\"dataframe\">\n",
       "  <thead>\n",
       "    <tr style=\"text-align: right;\">\n",
       "      <th></th>\n",
       "      <th>issued_year_div</th>\n",
       "      <th>Charged off %</th>\n",
       "    </tr>\n",
       "  </thead>\n",
       "  <tbody>\n",
       "    <tr>\n",
       "      <th>0</th>\n",
       "      <td>7</td>\n",
       "      <td>0.179283</td>\n",
       "    </tr>\n",
       "    <tr>\n",
       "      <th>1</th>\n",
       "      <td>11</td>\n",
       "      <td>0.158705</td>\n",
       "    </tr>\n",
       "    <tr>\n",
       "      <th>2</th>\n",
       "      <td>8</td>\n",
       "      <td>0.158131</td>\n",
       "    </tr>\n",
       "    <tr>\n",
       "      <th>3</th>\n",
       "      <td>10</td>\n",
       "      <td>0.128772</td>\n",
       "    </tr>\n",
       "    <tr>\n",
       "      <th>4</th>\n",
       "      <td>9</td>\n",
       "      <td>0.125954</td>\n",
       "    </tr>\n",
       "  </tbody>\n",
       "</table>\n",
       "</div>"
      ],
      "text/plain": [
       "   issued_year_div  Charged off %\n",
       "0                7       0.179283\n",
       "1               11       0.158705\n",
       "2                8       0.158131\n",
       "3               10       0.128772\n",
       "4                9       0.125954"
      ]
     },
     "execution_count": 74,
     "metadata": {},
     "output_type": "execute_result"
    }
   ],
   "source": [
    "univariateSegementedAnalysis(column='issued_year')"
   ]
  },
  {
   "cell_type": "code",
   "execution_count": 75,
   "id": "8cf9b32d",
   "metadata": {},
   "outputs": [
    {
     "data": {
      "text/html": [
       "<div>\n",
       "<style scoped>\n",
       "    .dataframe tbody tr th:only-of-type {\n",
       "        vertical-align: middle;\n",
       "    }\n",
       "\n",
       "    .dataframe tbody tr th {\n",
       "        vertical-align: top;\n",
       "    }\n",
       "\n",
       "    .dataframe thead th {\n",
       "        text-align: right;\n",
       "    }\n",
       "</style>\n",
       "<table border=\"1\" class=\"dataframe\">\n",
       "  <thead>\n",
       "    <tr style=\"text-align: right;\">\n",
       "      <th></th>\n",
       "      <th>issued_month_div</th>\n",
       "      <th>Charged off %</th>\n",
       "    </tr>\n",
       "  </thead>\n",
       "  <tbody>\n",
       "    <tr>\n",
       "      <th>0</th>\n",
       "      <td>Dec</td>\n",
       "      <td>0.160854</td>\n",
       "    </tr>\n",
       "    <tr>\n",
       "      <th>1</th>\n",
       "      <td>May</td>\n",
       "      <td>0.159644</td>\n",
       "    </tr>\n",
       "    <tr>\n",
       "      <th>2</th>\n",
       "      <td>Sep</td>\n",
       "      <td>0.156375</td>\n",
       "    </tr>\n",
       "    <tr>\n",
       "      <th>3</th>\n",
       "      <td>Oct</td>\n",
       "      <td>0.154214</td>\n",
       "    </tr>\n",
       "    <tr>\n",
       "      <th>4</th>\n",
       "      <td>Jun</td>\n",
       "      <td>0.151887</td>\n",
       "    </tr>\n",
       "    <tr>\n",
       "      <th>5</th>\n",
       "      <td>Nov</td>\n",
       "      <td>0.149276</td>\n",
       "    </tr>\n",
       "    <tr>\n",
       "      <th>6</th>\n",
       "      <td>Jul</td>\n",
       "      <td>0.142942</td>\n",
       "    </tr>\n",
       "    <tr>\n",
       "      <th>7</th>\n",
       "      <td>Aug</td>\n",
       "      <td>0.138135</td>\n",
       "    </tr>\n",
       "    <tr>\n",
       "      <th>8</th>\n",
       "      <td>Jan</td>\n",
       "      <td>0.134931</td>\n",
       "    </tr>\n",
       "    <tr>\n",
       "      <th>9</th>\n",
       "      <td>Apr</td>\n",
       "      <td>0.130696</td>\n",
       "    </tr>\n",
       "    <tr>\n",
       "      <th>10</th>\n",
       "      <td>Mar</td>\n",
       "      <td>0.128948</td>\n",
       "    </tr>\n",
       "    <tr>\n",
       "      <th>11</th>\n",
       "      <td>Feb</td>\n",
       "      <td>0.122986</td>\n",
       "    </tr>\n",
       "  </tbody>\n",
       "</table>\n",
       "</div>"
      ],
      "text/plain": [
       "   issued_month_div  Charged off %\n",
       "0               Dec       0.160854\n",
       "1               May       0.159644\n",
       "2               Sep       0.156375\n",
       "3               Oct       0.154214\n",
       "4               Jun       0.151887\n",
       "5               Nov       0.149276\n",
       "6               Jul       0.142942\n",
       "7               Aug       0.138135\n",
       "8               Jan       0.134931\n",
       "9               Apr       0.130696\n",
       "10              Mar       0.128948\n",
       "11              Feb       0.122986"
      ]
     },
     "execution_count": 75,
     "metadata": {},
     "output_type": "execute_result"
    }
   ],
   "source": [
    "univariateSegementedAnalysis(column='issued_month')"
   ]
  },
  {
   "cell_type": "markdown",
   "id": "d7eff48d",
   "metadata": {},
   "source": [
    "During the month of december and may there are highest loan application been charged off.Mostly due to holidays."
   ]
  },
  {
   "cell_type": "code",
   "execution_count": 76,
   "id": "976a8b93",
   "metadata": {},
   "outputs": [
    {
     "data": {
      "text/html": [
       "<div>\n",
       "<style scoped>\n",
       "    .dataframe tbody tr th:only-of-type {\n",
       "        vertical-align: middle;\n",
       "    }\n",
       "\n",
       "    .dataframe tbody tr th {\n",
       "        vertical-align: top;\n",
       "    }\n",
       "\n",
       "    .dataframe thead th {\n",
       "        text-align: right;\n",
       "    }\n",
       "</style>\n",
       "<table border=\"1\" class=\"dataframe\">\n",
       "  <thead>\n",
       "    <tr style=\"text-align: right;\">\n",
       "      <th></th>\n",
       "      <th>addr_state_div</th>\n",
       "      <th>Charged off %</th>\n",
       "    </tr>\n",
       "  </thead>\n",
       "  <tbody>\n",
       "    <tr>\n",
       "      <th>0</th>\n",
       "      <td>NE</td>\n",
       "      <td>0.600000</td>\n",
       "    </tr>\n",
       "    <tr>\n",
       "      <th>1</th>\n",
       "      <td>NV</td>\n",
       "      <td>0.225470</td>\n",
       "    </tr>\n",
       "    <tr>\n",
       "      <th>2</th>\n",
       "      <td>SD</td>\n",
       "      <td>0.193548</td>\n",
       "    </tr>\n",
       "    <tr>\n",
       "      <th>3</th>\n",
       "      <td>AK</td>\n",
       "      <td>0.192308</td>\n",
       "    </tr>\n",
       "    <tr>\n",
       "      <th>4</th>\n",
       "      <td>FL</td>\n",
       "      <td>0.181230</td>\n",
       "    </tr>\n",
       "    <tr>\n",
       "      <th>5</th>\n",
       "      <td>MO</td>\n",
       "      <td>0.170149</td>\n",
       "    </tr>\n",
       "    <tr>\n",
       "      <th>6</th>\n",
       "      <td>HI</td>\n",
       "      <td>0.168675</td>\n",
       "    </tr>\n",
       "    <tr>\n",
       "      <th>7</th>\n",
       "      <td>ID</td>\n",
       "      <td>0.166667</td>\n",
       "    </tr>\n",
       "    <tr>\n",
       "      <th>8</th>\n",
       "      <td>NM</td>\n",
       "      <td>0.163934</td>\n",
       "    </tr>\n",
       "    <tr>\n",
       "      <th>9</th>\n",
       "      <td>OR</td>\n",
       "      <td>0.163218</td>\n",
       "    </tr>\n",
       "    <tr>\n",
       "      <th>10</th>\n",
       "      <td>CA</td>\n",
       "      <td>0.161894</td>\n",
       "    </tr>\n",
       "    <tr>\n",
       "      <th>11</th>\n",
       "      <td>UT</td>\n",
       "      <td>0.158730</td>\n",
       "    </tr>\n",
       "    <tr>\n",
       "      <th>12</th>\n",
       "      <td>MD</td>\n",
       "      <td>0.158358</td>\n",
       "    </tr>\n",
       "    <tr>\n",
       "      <th>13</th>\n",
       "      <td>GA</td>\n",
       "      <td>0.158205</td>\n",
       "    </tr>\n",
       "    <tr>\n",
       "      <th>14</th>\n",
       "      <td>NJ</td>\n",
       "      <td>0.155307</td>\n",
       "    </tr>\n",
       "    <tr>\n",
       "      <th>15</th>\n",
       "      <td>WA</td>\n",
       "      <td>0.155257</td>\n",
       "    </tr>\n",
       "    <tr>\n",
       "      <th>16</th>\n",
       "      <td>NC</td>\n",
       "      <td>0.152000</td>\n",
       "    </tr>\n",
       "    <tr>\n",
       "      <th>17</th>\n",
       "      <td>NH</td>\n",
       "      <td>0.150602</td>\n",
       "    </tr>\n",
       "    <tr>\n",
       "      <th>18</th>\n",
       "      <td>MI</td>\n",
       "      <td>0.146307</td>\n",
       "    </tr>\n",
       "    <tr>\n",
       "      <th>19</th>\n",
       "      <td>AZ</td>\n",
       "      <td>0.144876</td>\n",
       "    </tr>\n",
       "    <tr>\n",
       "      <th>20</th>\n",
       "      <td>KY</td>\n",
       "      <td>0.144695</td>\n",
       "    </tr>\n",
       "    <tr>\n",
       "      <th>21</th>\n",
       "      <td>SC</td>\n",
       "      <td>0.143791</td>\n",
       "    </tr>\n",
       "    <tr>\n",
       "      <th>22</th>\n",
       "      <td>WI</td>\n",
       "      <td>0.143182</td>\n",
       "    </tr>\n",
       "    <tr>\n",
       "      <th>23</th>\n",
       "      <td>OK</td>\n",
       "      <td>0.139373</td>\n",
       "    </tr>\n",
       "    <tr>\n",
       "      <th>24</th>\n",
       "      <td>MN</td>\n",
       "      <td>0.133884</td>\n",
       "    </tr>\n",
       "    <tr>\n",
       "      <th>25</th>\n",
       "      <td>NY</td>\n",
       "      <td>0.133856</td>\n",
       "    </tr>\n",
       "    <tr>\n",
       "      <th>26</th>\n",
       "      <td>IL</td>\n",
       "      <td>0.133288</td>\n",
       "    </tr>\n",
       "    <tr>\n",
       "      <th>27</th>\n",
       "      <td>MT</td>\n",
       "      <td>0.132530</td>\n",
       "    </tr>\n",
       "    <tr>\n",
       "      <th>28</th>\n",
       "      <td>OH</td>\n",
       "      <td>0.131579</td>\n",
       "    </tr>\n",
       "    <tr>\n",
       "      <th>29</th>\n",
       "      <td>CT</td>\n",
       "      <td>0.129477</td>\n",
       "    </tr>\n",
       "    <tr>\n",
       "      <th>30</th>\n",
       "      <td>VA</td>\n",
       "      <td>0.129291</td>\n",
       "    </tr>\n",
       "    <tr>\n",
       "      <th>31</th>\n",
       "      <td>RI</td>\n",
       "      <td>0.128866</td>\n",
       "    </tr>\n",
       "    <tr>\n",
       "      <th>32</th>\n",
       "      <td>CO</td>\n",
       "      <td>0.127937</td>\n",
       "    </tr>\n",
       "    <tr>\n",
       "      <th>33</th>\n",
       "      <td>AL</td>\n",
       "      <td>0.124138</td>\n",
       "    </tr>\n",
       "    <tr>\n",
       "      <th>34</th>\n",
       "      <td>LA</td>\n",
       "      <td>0.124122</td>\n",
       "    </tr>\n",
       "    <tr>\n",
       "      <th>35</th>\n",
       "      <td>PA</td>\n",
       "      <td>0.122616</td>\n",
       "    </tr>\n",
       "    <tr>\n",
       "      <th>36</th>\n",
       "      <td>MA</td>\n",
       "      <td>0.122591</td>\n",
       "    </tr>\n",
       "    <tr>\n",
       "      <th>37</th>\n",
       "      <td>WV</td>\n",
       "      <td>0.122093</td>\n",
       "    </tr>\n",
       "    <tr>\n",
       "      <th>38</th>\n",
       "      <td>KS</td>\n",
       "      <td>0.121569</td>\n",
       "    </tr>\n",
       "    <tr>\n",
       "      <th>39</th>\n",
       "      <td>TX</td>\n",
       "      <td>0.118842</td>\n",
       "    </tr>\n",
       "    <tr>\n",
       "      <th>40</th>\n",
       "      <td>TN</td>\n",
       "      <td>0.117647</td>\n",
       "    </tr>\n",
       "    <tr>\n",
       "      <th>41</th>\n",
       "      <td>AR</td>\n",
       "      <td>0.114894</td>\n",
       "    </tr>\n",
       "    <tr>\n",
       "      <th>42</th>\n",
       "      <td>VT</td>\n",
       "      <td>0.113208</td>\n",
       "    </tr>\n",
       "    <tr>\n",
       "      <th>43</th>\n",
       "      <td>DE</td>\n",
       "      <td>0.106195</td>\n",
       "    </tr>\n",
       "    <tr>\n",
       "      <th>44</th>\n",
       "      <td>MS</td>\n",
       "      <td>0.105263</td>\n",
       "    </tr>\n",
       "    <tr>\n",
       "      <th>45</th>\n",
       "      <td>DC</td>\n",
       "      <td>0.071090</td>\n",
       "    </tr>\n",
       "    <tr>\n",
       "      <th>46</th>\n",
       "      <td>WY</td>\n",
       "      <td>0.050000</td>\n",
       "    </tr>\n",
       "  </tbody>\n",
       "</table>\n",
       "</div>"
      ],
      "text/plain": [
       "   addr_state_div  Charged off %\n",
       "0              NE       0.600000\n",
       "1              NV       0.225470\n",
       "2              SD       0.193548\n",
       "3              AK       0.192308\n",
       "4              FL       0.181230\n",
       "5              MO       0.170149\n",
       "6              HI       0.168675\n",
       "7              ID       0.166667\n",
       "8              NM       0.163934\n",
       "9              OR       0.163218\n",
       "10             CA       0.161894\n",
       "11             UT       0.158730\n",
       "12             MD       0.158358\n",
       "13             GA       0.158205\n",
       "14             NJ       0.155307\n",
       "15             WA       0.155257\n",
       "16             NC       0.152000\n",
       "17             NH       0.150602\n",
       "18             MI       0.146307\n",
       "19             AZ       0.144876\n",
       "20             KY       0.144695\n",
       "21             SC       0.143791\n",
       "22             WI       0.143182\n",
       "23             OK       0.139373\n",
       "24             MN       0.133884\n",
       "25             NY       0.133856\n",
       "26             IL       0.133288\n",
       "27             MT       0.132530\n",
       "28             OH       0.131579\n",
       "29             CT       0.129477\n",
       "30             VA       0.129291\n",
       "31             RI       0.128866\n",
       "32             CO       0.127937\n",
       "33             AL       0.124138\n",
       "34             LA       0.124122\n",
       "35             PA       0.122616\n",
       "36             MA       0.122591\n",
       "37             WV       0.122093\n",
       "38             KS       0.121569\n",
       "39             TX       0.118842\n",
       "40             TN       0.117647\n",
       "41             AR       0.114894\n",
       "42             VT       0.113208\n",
       "43             DE       0.106195\n",
       "44             MS       0.105263\n",
       "45             DC       0.071090\n",
       "46             WY       0.050000"
      ]
     },
     "execution_count": 76,
     "metadata": {},
     "output_type": "execute_result"
    }
   ],
   "source": [
    "univariateSegementedAnalysis(column='addr_state')"
   ]
  },
  {
   "cell_type": "markdown",
   "id": "e80cebd0",
   "metadata": {},
   "source": [
    "NE is the most riskiest state followed by NV,SD,AK,FL."
   ]
  },
  {
   "cell_type": "markdown",
   "id": "87d593ce",
   "metadata": {},
   "source": [
    "###  Bivariate Analysis"
   ]
  },
  {
   "cell_type": "code",
   "execution_count": 77,
   "id": "56682c5f",
   "metadata": {},
   "outputs": [],
   "source": [
    "charged_df = loan_df[loan_df.loan_status==\"Charged Off\"]"
   ]
  },
  {
   "cell_type": "code",
   "execution_count": 78,
   "id": "d2edc4b1",
   "metadata": {},
   "outputs": [
    {
     "name": "stderr",
     "output_type": "stream",
     "text": [
      "C:\\Users\\Administrator\\AppData\\Local\\Temp\\ipykernel_12784\\3056540731.py:1: FutureWarning: The default value of numeric_only in DataFrame.corr is deprecated. In a future version, it will default to False. Select only valid columns or specify the value of numeric_only to silence this warning.\n",
      "  charged_df.corr()\n"
     ]
    },
    {
     "data": {
      "text/html": [
       "<div>\n",
       "<style scoped>\n",
       "    .dataframe tbody tr th:only-of-type {\n",
       "        vertical-align: middle;\n",
       "    }\n",
       "\n",
       "    .dataframe tbody tr th {\n",
       "        vertical-align: top;\n",
       "    }\n",
       "\n",
       "    .dataframe thead th {\n",
       "        text-align: right;\n",
       "    }\n",
       "</style>\n",
       "<table border=\"1\" class=\"dataframe\">\n",
       "  <thead>\n",
       "    <tr style=\"text-align: right;\">\n",
       "      <th></th>\n",
       "      <th>loan_amnt</th>\n",
       "      <th>funded_amnt</th>\n",
       "      <th>funded_amnt_inv</th>\n",
       "      <th>int_rate</th>\n",
       "      <th>installment</th>\n",
       "      <th>annual_inc</th>\n",
       "      <th>dti</th>\n",
       "      <th>delinq_2yrs</th>\n",
       "      <th>inq_last_6mths</th>\n",
       "      <th>open_acc</th>\n",
       "      <th>pub_rec</th>\n",
       "      <th>revol_bal</th>\n",
       "      <th>total_acc</th>\n",
       "      <th>pub_rec_bankruptcies</th>\n",
       "      <th>issued_year</th>\n",
       "      <th>loan_status_numeric</th>\n",
       "      <th>pub_rec_div</th>\n",
       "      <th>pub_rec_bankruptcies_div</th>\n",
       "      <th>issued_year_div</th>\n",
       "    </tr>\n",
       "  </thead>\n",
       "  <tbody>\n",
       "    <tr>\n",
       "      <th>loan_amnt</th>\n",
       "      <td>1.000000</td>\n",
       "      <td>0.979134</td>\n",
       "      <td>0.907129</td>\n",
       "      <td>0.351216</td>\n",
       "      <td>0.925911</td>\n",
       "      <td>0.352359</td>\n",
       "      <td>0.063872</td>\n",
       "      <td>-0.029843</td>\n",
       "      <td>0.007480</td>\n",
       "      <td>0.184323</td>\n",
       "      <td>-0.047690</td>\n",
       "      <td>0.313101</td>\n",
       "      <td>0.283738</td>\n",
       "      <td>-0.028286</td>\n",
       "      <td>0.118279</td>\n",
       "      <td>NaN</td>\n",
       "      <td>-0.047690</td>\n",
       "      <td>-0.028286</td>\n",
       "      <td>0.118279</td>\n",
       "    </tr>\n",
       "    <tr>\n",
       "      <th>funded_amnt</th>\n",
       "      <td>0.979134</td>\n",
       "      <td>1.000000</td>\n",
       "      <td>0.926996</td>\n",
       "      <td>0.353906</td>\n",
       "      <td>0.953826</td>\n",
       "      <td>0.347131</td>\n",
       "      <td>0.060861</td>\n",
       "      <td>-0.027366</td>\n",
       "      <td>0.007942</td>\n",
       "      <td>0.181439</td>\n",
       "      <td>-0.052527</td>\n",
       "      <td>0.296956</td>\n",
       "      <td>0.275088</td>\n",
       "      <td>-0.033212</td>\n",
       "      <td>0.130878</td>\n",
       "      <td>NaN</td>\n",
       "      <td>-0.052527</td>\n",
       "      <td>-0.033212</td>\n",
       "      <td>0.130878</td>\n",
       "    </tr>\n",
       "    <tr>\n",
       "      <th>funded_amnt_inv</th>\n",
       "      <td>0.907129</td>\n",
       "      <td>0.926996</td>\n",
       "      <td>1.000000</td>\n",
       "      <td>0.369863</td>\n",
       "      <td>0.858041</td>\n",
       "      <td>0.314505</td>\n",
       "      <td>0.072924</td>\n",
       "      <td>-0.031524</td>\n",
       "      <td>-0.018395</td>\n",
       "      <td>0.154601</td>\n",
       "      <td>-0.052717</td>\n",
       "      <td>0.254045</td>\n",
       "      <td>0.252796</td>\n",
       "      <td>-0.036099</td>\n",
       "      <td>0.313776</td>\n",
       "      <td>NaN</td>\n",
       "      <td>-0.052717</td>\n",
       "      <td>-0.036099</td>\n",
       "      <td>0.313776</td>\n",
       "    </tr>\n",
       "    <tr>\n",
       "      <th>int_rate</th>\n",
       "      <td>0.351216</td>\n",
       "      <td>0.353906</td>\n",
       "      <td>0.369863</td>\n",
       "      <td>1.000000</td>\n",
       "      <td>0.327909</td>\n",
       "      <td>0.132252</td>\n",
       "      <td>0.040607</td>\n",
       "      <td>0.119643</td>\n",
       "      <td>0.058475</td>\n",
       "      <td>0.038607</td>\n",
       "      <td>0.079085</td>\n",
       "      <td>0.075878</td>\n",
       "      <td>-0.008655</td>\n",
       "      <td>0.074839</td>\n",
       "      <td>0.180447</td>\n",
       "      <td>NaN</td>\n",
       "      <td>0.079085</td>\n",
       "      <td>0.074839</td>\n",
       "      <td>0.180447</td>\n",
       "    </tr>\n",
       "    <tr>\n",
       "      <th>installment</th>\n",
       "      <td>0.925911</td>\n",
       "      <td>0.953826</td>\n",
       "      <td>0.858041</td>\n",
       "      <td>0.327909</td>\n",
       "      <td>1.000000</td>\n",
       "      <td>0.358656</td>\n",
       "      <td>0.042358</td>\n",
       "      <td>-0.012530</td>\n",
       "      <td>0.018359</td>\n",
       "      <td>0.179676</td>\n",
       "      <td>-0.041068</td>\n",
       "      <td>0.299930</td>\n",
       "      <td>0.251874</td>\n",
       "      <td>-0.025611</td>\n",
       "      <td>0.028281</td>\n",
       "      <td>NaN</td>\n",
       "      <td>-0.041068</td>\n",
       "      <td>-0.025611</td>\n",
       "      <td>0.028281</td>\n",
       "    </tr>\n",
       "    <tr>\n",
       "      <th>annual_inc</th>\n",
       "      <td>0.352359</td>\n",
       "      <td>0.347131</td>\n",
       "      <td>0.314505</td>\n",
       "      <td>0.132252</td>\n",
       "      <td>0.358656</td>\n",
       "      <td>1.000000</td>\n",
       "      <td>-0.089725</td>\n",
       "      <td>0.021765</td>\n",
       "      <td>0.037303</td>\n",
       "      <td>0.212320</td>\n",
       "      <td>-0.006679</td>\n",
       "      <td>0.379449</td>\n",
       "      <td>0.287343</td>\n",
       "      <td>-0.004122</td>\n",
       "      <td>-0.020013</td>\n",
       "      <td>NaN</td>\n",
       "      <td>-0.006679</td>\n",
       "      <td>-0.004122</td>\n",
       "      <td>-0.020013</td>\n",
       "    </tr>\n",
       "    <tr>\n",
       "      <th>dti</th>\n",
       "      <td>0.063872</td>\n",
       "      <td>0.060861</td>\n",
       "      <td>0.072924</td>\n",
       "      <td>0.040607</td>\n",
       "      <td>0.042358</td>\n",
       "      <td>-0.089725</td>\n",
       "      <td>1.000000</td>\n",
       "      <td>-0.068839</td>\n",
       "      <td>-0.028810</td>\n",
       "      <td>0.299230</td>\n",
       "      <td>0.007990</td>\n",
       "      <td>0.239712</td>\n",
       "      <td>0.272802</td>\n",
       "      <td>0.018904</td>\n",
       "      <td>0.098510</td>\n",
       "      <td>NaN</td>\n",
       "      <td>0.007990</td>\n",
       "      <td>0.018904</td>\n",
       "      <td>0.098510</td>\n",
       "    </tr>\n",
       "    <tr>\n",
       "      <th>delinq_2yrs</th>\n",
       "      <td>-0.029843</td>\n",
       "      <td>-0.027366</td>\n",
       "      <td>-0.031524</td>\n",
       "      <td>0.119643</td>\n",
       "      <td>-0.012530</td>\n",
       "      <td>0.021765</td>\n",
       "      <td>-0.068839</td>\n",
       "      <td>1.000000</td>\n",
       "      <td>-0.011454</td>\n",
       "      <td>-0.018495</td>\n",
       "      <td>-0.001608</td>\n",
       "      <td>-0.081994</td>\n",
       "      <td>0.059658</td>\n",
       "      <td>0.002453</td>\n",
       "      <td>0.013049</td>\n",
       "      <td>NaN</td>\n",
       "      <td>-0.001608</td>\n",
       "      <td>0.002453</td>\n",
       "      <td>0.013049</td>\n",
       "    </tr>\n",
       "    <tr>\n",
       "      <th>inq_last_6mths</th>\n",
       "      <td>0.007480</td>\n",
       "      <td>0.007942</td>\n",
       "      <td>-0.018395</td>\n",
       "      <td>0.058475</td>\n",
       "      <td>0.018359</td>\n",
       "      <td>0.037303</td>\n",
       "      <td>-0.028810</td>\n",
       "      <td>-0.011454</td>\n",
       "      <td>1.000000</td>\n",
       "      <td>0.078767</td>\n",
       "      <td>0.013126</td>\n",
       "      <td>-0.010770</td>\n",
       "      <td>0.103554</td>\n",
       "      <td>0.008612</td>\n",
       "      <td>-0.087765</td>\n",
       "      <td>NaN</td>\n",
       "      <td>0.013126</td>\n",
       "      <td>0.008612</td>\n",
       "      <td>-0.087765</td>\n",
       "    </tr>\n",
       "    <tr>\n",
       "      <th>open_acc</th>\n",
       "      <td>0.184323</td>\n",
       "      <td>0.181439</td>\n",
       "      <td>0.154601</td>\n",
       "      <td>0.038607</td>\n",
       "      <td>0.179676</td>\n",
       "      <td>0.212320</td>\n",
       "      <td>0.299230</td>\n",
       "      <td>-0.018495</td>\n",
       "      <td>0.078767</td>\n",
       "      <td>1.000000</td>\n",
       "      <td>0.049776</td>\n",
       "      <td>0.330555</td>\n",
       "      <td>0.686425</td>\n",
       "      <td>0.061357</td>\n",
       "      <td>-0.000132</td>\n",
       "      <td>NaN</td>\n",
       "      <td>0.049776</td>\n",
       "      <td>0.061357</td>\n",
       "      <td>-0.000132</td>\n",
       "    </tr>\n",
       "    <tr>\n",
       "      <th>pub_rec</th>\n",
       "      <td>-0.047690</td>\n",
       "      <td>-0.052527</td>\n",
       "      <td>-0.052717</td>\n",
       "      <td>0.079085</td>\n",
       "      <td>-0.041068</td>\n",
       "      <td>-0.006679</td>\n",
       "      <td>0.007990</td>\n",
       "      <td>-0.001608</td>\n",
       "      <td>0.013126</td>\n",
       "      <td>0.049776</td>\n",
       "      <td>1.000000</td>\n",
       "      <td>-0.063607</td>\n",
       "      <td>0.016300</td>\n",
       "      <td>0.863031</td>\n",
       "      <td>-0.016963</td>\n",
       "      <td>NaN</td>\n",
       "      <td>1.000000</td>\n",
       "      <td>0.863031</td>\n",
       "      <td>-0.016963</td>\n",
       "    </tr>\n",
       "    <tr>\n",
       "      <th>revol_bal</th>\n",
       "      <td>0.313101</td>\n",
       "      <td>0.296956</td>\n",
       "      <td>0.254045</td>\n",
       "      <td>0.075878</td>\n",
       "      <td>0.299930</td>\n",
       "      <td>0.379449</td>\n",
       "      <td>0.239712</td>\n",
       "      <td>-0.081994</td>\n",
       "      <td>-0.010770</td>\n",
       "      <td>0.330555</td>\n",
       "      <td>-0.063607</td>\n",
       "      <td>1.000000</td>\n",
       "      <td>0.362850</td>\n",
       "      <td>-0.050183</td>\n",
       "      <td>-0.047253</td>\n",
       "      <td>NaN</td>\n",
       "      <td>-0.063607</td>\n",
       "      <td>-0.050183</td>\n",
       "      <td>-0.047253</td>\n",
       "    </tr>\n",
       "    <tr>\n",
       "      <th>total_acc</th>\n",
       "      <td>0.283738</td>\n",
       "      <td>0.275088</td>\n",
       "      <td>0.252796</td>\n",
       "      <td>-0.008655</td>\n",
       "      <td>0.251874</td>\n",
       "      <td>0.287343</td>\n",
       "      <td>0.272802</td>\n",
       "      <td>0.059658</td>\n",
       "      <td>0.103554</td>\n",
       "      <td>0.686425</td>\n",
       "      <td>0.016300</td>\n",
       "      <td>0.362850</td>\n",
       "      <td>1.000000</td>\n",
       "      <td>0.031607</td>\n",
       "      <td>0.030523</td>\n",
       "      <td>NaN</td>\n",
       "      <td>0.016300</td>\n",
       "      <td>0.031607</td>\n",
       "      <td>0.030523</td>\n",
       "    </tr>\n",
       "    <tr>\n",
       "      <th>pub_rec_bankruptcies</th>\n",
       "      <td>-0.028286</td>\n",
       "      <td>-0.033212</td>\n",
       "      <td>-0.036099</td>\n",
       "      <td>0.074839</td>\n",
       "      <td>-0.025611</td>\n",
       "      <td>-0.004122</td>\n",
       "      <td>0.018904</td>\n",
       "      <td>0.002453</td>\n",
       "      <td>0.008612</td>\n",
       "      <td>0.061357</td>\n",
       "      <td>0.863031</td>\n",
       "      <td>-0.050183</td>\n",
       "      <td>0.031607</td>\n",
       "      <td>1.000000</td>\n",
       "      <td>-0.002870</td>\n",
       "      <td>NaN</td>\n",
       "      <td>0.863031</td>\n",
       "      <td>1.000000</td>\n",
       "      <td>-0.002870</td>\n",
       "    </tr>\n",
       "    <tr>\n",
       "      <th>issued_year</th>\n",
       "      <td>0.118279</td>\n",
       "      <td>0.130878</td>\n",
       "      <td>0.313776</td>\n",
       "      <td>0.180447</td>\n",
       "      <td>0.028281</td>\n",
       "      <td>-0.020013</td>\n",
       "      <td>0.098510</td>\n",
       "      <td>0.013049</td>\n",
       "      <td>-0.087765</td>\n",
       "      <td>-0.000132</td>\n",
       "      <td>-0.016963</td>\n",
       "      <td>-0.047253</td>\n",
       "      <td>0.030523</td>\n",
       "      <td>-0.002870</td>\n",
       "      <td>1.000000</td>\n",
       "      <td>NaN</td>\n",
       "      <td>-0.016963</td>\n",
       "      <td>-0.002870</td>\n",
       "      <td>1.000000</td>\n",
       "    </tr>\n",
       "    <tr>\n",
       "      <th>loan_status_numeric</th>\n",
       "      <td>NaN</td>\n",
       "      <td>NaN</td>\n",
       "      <td>NaN</td>\n",
       "      <td>NaN</td>\n",
       "      <td>NaN</td>\n",
       "      <td>NaN</td>\n",
       "      <td>NaN</td>\n",
       "      <td>NaN</td>\n",
       "      <td>NaN</td>\n",
       "      <td>NaN</td>\n",
       "      <td>NaN</td>\n",
       "      <td>NaN</td>\n",
       "      <td>NaN</td>\n",
       "      <td>NaN</td>\n",
       "      <td>NaN</td>\n",
       "      <td>NaN</td>\n",
       "      <td>NaN</td>\n",
       "      <td>NaN</td>\n",
       "      <td>NaN</td>\n",
       "    </tr>\n",
       "    <tr>\n",
       "      <th>pub_rec_div</th>\n",
       "      <td>-0.047690</td>\n",
       "      <td>-0.052527</td>\n",
       "      <td>-0.052717</td>\n",
       "      <td>0.079085</td>\n",
       "      <td>-0.041068</td>\n",
       "      <td>-0.006679</td>\n",
       "      <td>0.007990</td>\n",
       "      <td>-0.001608</td>\n",
       "      <td>0.013126</td>\n",
       "      <td>0.049776</td>\n",
       "      <td>1.000000</td>\n",
       "      <td>-0.063607</td>\n",
       "      <td>0.016300</td>\n",
       "      <td>0.863031</td>\n",
       "      <td>-0.016963</td>\n",
       "      <td>NaN</td>\n",
       "      <td>1.000000</td>\n",
       "      <td>0.863031</td>\n",
       "      <td>-0.016963</td>\n",
       "    </tr>\n",
       "    <tr>\n",
       "      <th>pub_rec_bankruptcies_div</th>\n",
       "      <td>-0.028286</td>\n",
       "      <td>-0.033212</td>\n",
       "      <td>-0.036099</td>\n",
       "      <td>0.074839</td>\n",
       "      <td>-0.025611</td>\n",
       "      <td>-0.004122</td>\n",
       "      <td>0.018904</td>\n",
       "      <td>0.002453</td>\n",
       "      <td>0.008612</td>\n",
       "      <td>0.061357</td>\n",
       "      <td>0.863031</td>\n",
       "      <td>-0.050183</td>\n",
       "      <td>0.031607</td>\n",
       "      <td>1.000000</td>\n",
       "      <td>-0.002870</td>\n",
       "      <td>NaN</td>\n",
       "      <td>0.863031</td>\n",
       "      <td>1.000000</td>\n",
       "      <td>-0.002870</td>\n",
       "    </tr>\n",
       "    <tr>\n",
       "      <th>issued_year_div</th>\n",
       "      <td>0.118279</td>\n",
       "      <td>0.130878</td>\n",
       "      <td>0.313776</td>\n",
       "      <td>0.180447</td>\n",
       "      <td>0.028281</td>\n",
       "      <td>-0.020013</td>\n",
       "      <td>0.098510</td>\n",
       "      <td>0.013049</td>\n",
       "      <td>-0.087765</td>\n",
       "      <td>-0.000132</td>\n",
       "      <td>-0.016963</td>\n",
       "      <td>-0.047253</td>\n",
       "      <td>0.030523</td>\n",
       "      <td>-0.002870</td>\n",
       "      <td>1.000000</td>\n",
       "      <td>NaN</td>\n",
       "      <td>-0.016963</td>\n",
       "      <td>-0.002870</td>\n",
       "      <td>1.000000</td>\n",
       "    </tr>\n",
       "  </tbody>\n",
       "</table>\n",
       "</div>"
      ],
      "text/plain": [
       "                          loan_amnt  funded_amnt  funded_amnt_inv  int_rate  \\\n",
       "loan_amnt                  1.000000     0.979134         0.907129  0.351216   \n",
       "funded_amnt                0.979134     1.000000         0.926996  0.353906   \n",
       "funded_amnt_inv            0.907129     0.926996         1.000000  0.369863   \n",
       "int_rate                   0.351216     0.353906         0.369863  1.000000   \n",
       "installment                0.925911     0.953826         0.858041  0.327909   \n",
       "annual_inc                 0.352359     0.347131         0.314505  0.132252   \n",
       "dti                        0.063872     0.060861         0.072924  0.040607   \n",
       "delinq_2yrs               -0.029843    -0.027366        -0.031524  0.119643   \n",
       "inq_last_6mths             0.007480     0.007942        -0.018395  0.058475   \n",
       "open_acc                   0.184323     0.181439         0.154601  0.038607   \n",
       "pub_rec                   -0.047690    -0.052527        -0.052717  0.079085   \n",
       "revol_bal                  0.313101     0.296956         0.254045  0.075878   \n",
       "total_acc                  0.283738     0.275088         0.252796 -0.008655   \n",
       "pub_rec_bankruptcies      -0.028286    -0.033212        -0.036099  0.074839   \n",
       "issued_year                0.118279     0.130878         0.313776  0.180447   \n",
       "loan_status_numeric             NaN          NaN              NaN       NaN   \n",
       "pub_rec_div               -0.047690    -0.052527        -0.052717  0.079085   \n",
       "pub_rec_bankruptcies_div  -0.028286    -0.033212        -0.036099  0.074839   \n",
       "issued_year_div            0.118279     0.130878         0.313776  0.180447   \n",
       "\n",
       "                          installment  annual_inc       dti  delinq_2yrs  \\\n",
       "loan_amnt                    0.925911    0.352359  0.063872    -0.029843   \n",
       "funded_amnt                  0.953826    0.347131  0.060861    -0.027366   \n",
       "funded_amnt_inv              0.858041    0.314505  0.072924    -0.031524   \n",
       "int_rate                     0.327909    0.132252  0.040607     0.119643   \n",
       "installment                  1.000000    0.358656  0.042358    -0.012530   \n",
       "annual_inc                   0.358656    1.000000 -0.089725     0.021765   \n",
       "dti                          0.042358   -0.089725  1.000000    -0.068839   \n",
       "delinq_2yrs                 -0.012530    0.021765 -0.068839     1.000000   \n",
       "inq_last_6mths               0.018359    0.037303 -0.028810    -0.011454   \n",
       "open_acc                     0.179676    0.212320  0.299230    -0.018495   \n",
       "pub_rec                     -0.041068   -0.006679  0.007990    -0.001608   \n",
       "revol_bal                    0.299930    0.379449  0.239712    -0.081994   \n",
       "total_acc                    0.251874    0.287343  0.272802     0.059658   \n",
       "pub_rec_bankruptcies        -0.025611   -0.004122  0.018904     0.002453   \n",
       "issued_year                  0.028281   -0.020013  0.098510     0.013049   \n",
       "loan_status_numeric               NaN         NaN       NaN          NaN   \n",
       "pub_rec_div                 -0.041068   -0.006679  0.007990    -0.001608   \n",
       "pub_rec_bankruptcies_div    -0.025611   -0.004122  0.018904     0.002453   \n",
       "issued_year_div              0.028281   -0.020013  0.098510     0.013049   \n",
       "\n",
       "                          inq_last_6mths  open_acc   pub_rec  revol_bal  \\\n",
       "loan_amnt                       0.007480  0.184323 -0.047690   0.313101   \n",
       "funded_amnt                     0.007942  0.181439 -0.052527   0.296956   \n",
       "funded_amnt_inv                -0.018395  0.154601 -0.052717   0.254045   \n",
       "int_rate                        0.058475  0.038607  0.079085   0.075878   \n",
       "installment                     0.018359  0.179676 -0.041068   0.299930   \n",
       "annual_inc                      0.037303  0.212320 -0.006679   0.379449   \n",
       "dti                            -0.028810  0.299230  0.007990   0.239712   \n",
       "delinq_2yrs                    -0.011454 -0.018495 -0.001608  -0.081994   \n",
       "inq_last_6mths                  1.000000  0.078767  0.013126  -0.010770   \n",
       "open_acc                        0.078767  1.000000  0.049776   0.330555   \n",
       "pub_rec                         0.013126  0.049776  1.000000  -0.063607   \n",
       "revol_bal                      -0.010770  0.330555 -0.063607   1.000000   \n",
       "total_acc                       0.103554  0.686425  0.016300   0.362850   \n",
       "pub_rec_bankruptcies            0.008612  0.061357  0.863031  -0.050183   \n",
       "issued_year                    -0.087765 -0.000132 -0.016963  -0.047253   \n",
       "loan_status_numeric                  NaN       NaN       NaN        NaN   \n",
       "pub_rec_div                     0.013126  0.049776  1.000000  -0.063607   \n",
       "pub_rec_bankruptcies_div        0.008612  0.061357  0.863031  -0.050183   \n",
       "issued_year_div                -0.087765 -0.000132 -0.016963  -0.047253   \n",
       "\n",
       "                          total_acc  pub_rec_bankruptcies  issued_year  \\\n",
       "loan_amnt                  0.283738             -0.028286     0.118279   \n",
       "funded_amnt                0.275088             -0.033212     0.130878   \n",
       "funded_amnt_inv            0.252796             -0.036099     0.313776   \n",
       "int_rate                  -0.008655              0.074839     0.180447   \n",
       "installment                0.251874             -0.025611     0.028281   \n",
       "annual_inc                 0.287343             -0.004122    -0.020013   \n",
       "dti                        0.272802              0.018904     0.098510   \n",
       "delinq_2yrs                0.059658              0.002453     0.013049   \n",
       "inq_last_6mths             0.103554              0.008612    -0.087765   \n",
       "open_acc                   0.686425              0.061357    -0.000132   \n",
       "pub_rec                    0.016300              0.863031    -0.016963   \n",
       "revol_bal                  0.362850             -0.050183    -0.047253   \n",
       "total_acc                  1.000000              0.031607     0.030523   \n",
       "pub_rec_bankruptcies       0.031607              1.000000    -0.002870   \n",
       "issued_year                0.030523             -0.002870     1.000000   \n",
       "loan_status_numeric             NaN                   NaN          NaN   \n",
       "pub_rec_div                0.016300              0.863031    -0.016963   \n",
       "pub_rec_bankruptcies_div   0.031607              1.000000    -0.002870   \n",
       "issued_year_div            0.030523             -0.002870     1.000000   \n",
       "\n",
       "                          loan_status_numeric  pub_rec_div  \\\n",
       "loan_amnt                                 NaN    -0.047690   \n",
       "funded_amnt                               NaN    -0.052527   \n",
       "funded_amnt_inv                           NaN    -0.052717   \n",
       "int_rate                                  NaN     0.079085   \n",
       "installment                               NaN    -0.041068   \n",
       "annual_inc                                NaN    -0.006679   \n",
       "dti                                       NaN     0.007990   \n",
       "delinq_2yrs                               NaN    -0.001608   \n",
       "inq_last_6mths                            NaN     0.013126   \n",
       "open_acc                                  NaN     0.049776   \n",
       "pub_rec                                   NaN     1.000000   \n",
       "revol_bal                                 NaN    -0.063607   \n",
       "total_acc                                 NaN     0.016300   \n",
       "pub_rec_bankruptcies                      NaN     0.863031   \n",
       "issued_year                               NaN    -0.016963   \n",
       "loan_status_numeric                       NaN          NaN   \n",
       "pub_rec_div                               NaN     1.000000   \n",
       "pub_rec_bankruptcies_div                  NaN     0.863031   \n",
       "issued_year_div                           NaN    -0.016963   \n",
       "\n",
       "                          pub_rec_bankruptcies_div  issued_year_div  \n",
       "loan_amnt                                -0.028286         0.118279  \n",
       "funded_amnt                              -0.033212         0.130878  \n",
       "funded_amnt_inv                          -0.036099         0.313776  \n",
       "int_rate                                  0.074839         0.180447  \n",
       "installment                              -0.025611         0.028281  \n",
       "annual_inc                               -0.004122        -0.020013  \n",
       "dti                                       0.018904         0.098510  \n",
       "delinq_2yrs                               0.002453         0.013049  \n",
       "inq_last_6mths                            0.008612        -0.087765  \n",
       "open_acc                                  0.061357        -0.000132  \n",
       "pub_rec                                   0.863031        -0.016963  \n",
       "revol_bal                                -0.050183        -0.047253  \n",
       "total_acc                                 0.031607         0.030523  \n",
       "pub_rec_bankruptcies                      1.000000        -0.002870  \n",
       "issued_year                              -0.002870         1.000000  \n",
       "loan_status_numeric                            NaN              NaN  \n",
       "pub_rec_div                               0.863031        -0.016963  \n",
       "pub_rec_bankruptcies_div                  1.000000        -0.002870  \n",
       "issued_year_div                          -0.002870         1.000000  "
      ]
     },
     "execution_count": 78,
     "metadata": {},
     "output_type": "execute_result"
    }
   ],
   "source": [
    "charged_df.corr()"
   ]
  },
  {
   "cell_type": "markdown",
   "id": "ceb75782",
   "metadata": {},
   "source": [
    "1. Loan_amnts,installments,funded_amnt,funded_amnt_inv are having hiher positive correlation.\n",
    "2. Pub_rec and pub_rec_bankruptcies are negatively correlated with loan amount but positively corelated with open_acc and total_acc"
   ]
  },
  {
   "cell_type": "code",
   "execution_count": 79,
   "id": "dc121a95",
   "metadata": {},
   "outputs": [
    {
     "data": {
      "text/plain": [
       "<Axes: xlabel='addr_state', ylabel='purpose'>"
      ]
     },
     "execution_count": 79,
     "metadata": {},
     "output_type": "execute_result"
    },
    {
     "data": {
      "image/png": "[encoded data removed]",
      "text/plain": [
       "<Figure size 640x480 with 2 Axes>"
      ]
     },
     "metadata": {},
     "output_type": "display_data"
    }
   ],
   "source": [
    "pt=pd.pivot_table(data=loan_df,values='loan_status_numeric',index='purpose',columns='addr_state')\n",
    "sns.heatmap(pt,cmap='YlGnBu')"
   ]
  },
  {
   "cell_type": "markdown",
   "id": "ce6b791e",
   "metadata": {},
   "source": [
    "Darker intersection of addr_state with purpose of loan,has higher charged off rate\n",
    "vacation role in AK,IA.moving expenses in moving.Home improvement and home expenses in NE,NJ."
   ]
  },
  {
   "cell_type": "code",
   "execution_count": 80,
   "id": "1e2988f3",
   "metadata": {},
   "outputs": [
    {
     "data": {
      "text/plain": [
       "<Axes: xlabel='purpose', ylabel='annual_inc_percentile'>"
      ]
     },
     "execution_count": 80,
     "metadata": {},
     "output_type": "execute_result"
    },
    {
     "data": {
      "image/png": "[encoded data removed]",
      "text/plain": [
       "<Figure size 640x480 with 2 Axes>"
      ]
     },
     "metadata": {},
     "output_type": "display_data"
    }
   ],
   "source": [
    "pt=pd.pivot_table(data=loan_df,values='loan_status_numeric',index='annual_inc_percentile',columns='purpose')\n",
    "sns.heatmap(pt,cmap='YlGnBu')"
   ]
  },
  {
   "cell_type": "markdown",
   "id": "d4f7ff4c",
   "metadata": {},
   "source": [
    "small bussiness loans for medium and lowest income grouos are riskier.Renewable loans for higher income groups are  riskier."
   ]
  },
  {
   "cell_type": "markdown",
   "id": "8a467328",
   "metadata": {},
   "source": [
    "### Derieved metrics"
   ]
  },
  {
   "cell_type": "markdown",
   "id": "abb1e826",
   "metadata": {},
   "source": [
    "Added Ordinal variables like '%_percentile' columns to perform univariate and bivariate analysis.\n",
    "Added Issued_date,Issued_year to perform univariate naalysis."
   ]
  }
 ],
 "metadata": {
  "kernelspec": {
   "display_name": "Python 3 (ipykernel)",
   "language": "python",
   "name": "python3"
  },
  "language_info": {
   "codemirror_mode": {
    "name": "ipython",
    "version": 3
   },
   "file_extension": ".py",
   "mimetype": "text/x-python",
   "name": "python",
   "nbconvert_exporter": "python",
   "pygments_lexer": "ipython3",
   "version": "3.11.4"
  }
 },
 "nbformat": 4,
 "nbformat_minor": 5
}
